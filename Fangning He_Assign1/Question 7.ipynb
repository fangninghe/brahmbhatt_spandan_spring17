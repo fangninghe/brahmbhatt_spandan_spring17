{
 "cells": [
  {
   "cell_type": "markdown",
   "metadata": {},
   "source": [
    "# Question 7\n",
    "- Use Name corpus, calculate the probability of a name being of a male or female base on the last character(s) of name.\n",
    "- Output must come with proper title (e.g. [a] male: 25%, female: 60%)"
   ]
  },
  {
   "cell_type": "code",
   "execution_count": 1,
   "metadata": {
    "collapsed": true
   },
   "outputs": [],
   "source": [
    "import nltk"
   ]
  },
  {
   "cell_type": "code",
   "execution_count": 2,
   "metadata": {
    "collapsed": false
   },
   "outputs": [
    {
     "data": {
      "text/plain": [
       "['female.txt', 'male.txt']"
      ]
     },
     "execution_count": 2,
     "metadata": {},
     "output_type": "execute_result"
    }
   ],
   "source": [
    "nltk.corpus.names.fileids()"
   ]
  },
  {
   "cell_type": "code",
   "execution_count": 3,
   "metadata": {
    "collapsed": true
   },
   "outputs": [],
   "source": [
    "female = nltk.corpus.names.words('female.txt')\n",
    "male = nltk.corpus.names.words('male.txt')        # read files"
   ]
  },
  {
   "cell_type": "code",
   "execution_count": 4,
   "metadata": {
    "collapsed": true
   },
   "outputs": [],
   "source": [
    "alpha = ['a','b','c','d','e','f','g','h','i','j','k','l','m','n','o','p','q','r','s','t','u','v','w','x','y','z']"
   ]
  },
  {
   "cell_type": "code",
   "execution_count": 5,
   "metadata": {
    "collapsed": true
   },
   "outputs": [],
   "source": [
    "def probability(char):\n",
    "    female_list = []\n",
    "    male_list = []\n",
    "    p = 0\n",
    "    for name in female:\n",
    "        if name.endswith(char):\n",
    "            female_list.append(name)     # collect female names\n",
    "    for name in male:\n",
    "        if name.endswith(char):\n",
    "            male_list.append(name)      # collect male names\n",
    "    sum_result = len(female_list)+len(male_list)\n",
    "    if((sum_result)>0):\n",
    "        p = len(female_list)/sum_result\n",
    "    else:\n",
    "        return 'Nobody'\n",
    "    return p"
   ]
  },
  {
   "cell_type": "code",
   "execution_count": 6,
   "metadata": {
    "collapsed": true
   },
   "outputs": [],
   "source": [
    "probability_dict = {}\n",
    "for char in alpha:\n",
    "    probability_dict.update({char:probability(char)})  # create char and probability dice"
   ]
  },
  {
   "cell_type": "code",
   "execution_count": 7,
   "metadata": {
    "collapsed": true
   },
   "outputs": [],
   "source": [
    "import collections"
   ]
  },
  {
   "cell_type": "code",
   "execution_count": 8,
   "metadata": {
    "collapsed": true
   },
   "outputs": [],
   "source": [
    "probability_dict = collections.OrderedDict(sorted(probability_dict.items()))  #sort dict"
   ]
  },
  {
   "cell_type": "code",
   "execution_count": 9,
   "metadata": {
    "collapsed": false
   },
   "outputs": [
    {
     "name": "stdout",
     "output_type": "stream",
     "text": [
      "char:  a \t female:  98.39 % \t male:  1.61 %\n",
      "char:  b \t female:  30.0 % \t male:  70.0 %\n",
      "char:  c \t female:  0.0 % \t male:  100.0 %\n",
      "char:  d \t female:  14.61 % \t male:  85.39 %\n",
      "char:  e \t female:  75.37 % \t male:  24.63 %\n",
      "char:  f \t female:  7.41 % \t male:  92.59 %\n",
      "char:  g \t female:  23.81 % \t male:  76.19 %\n",
      "char:  h \t female:  53.03 % \t male:  46.97 %\n",
      "char:  i \t female:  86.38 % \t male:  13.62 %\n",
      "char:  j \t female:  25.0 % \t male:  75.0 %\n",
      "char:  k \t female:  4.17 % \t male:  95.83 %\n",
      "char:  l \t female:  48.91 % \t male:  51.09 %\n",
      "char:  m \t female:  15.66 % \t male:  84.34 %\n",
      "char:  n \t female:  44.68 % \t male:  55.32 %\n",
      "char:  o \t female:  16.67 % \t male:  83.33 %\n",
      "char:  p \t female:  10.0 % \t male:  90.0 %\n",
      "char:  q \t Nobody\n",
      "char:  r \t female:  19.83 % \t male:  80.17 %\n",
      "char:  s \t female:  28.79 % \t male:  71.21 %\n",
      "char:  t \t female:  29.31 % \t male:  70.69 %\n",
      "char:  u \t female:  33.33 % \t male:  66.67 %\n",
      "char:  v \t female:  11.11 % \t male:  88.89 %\n",
      "char:  w \t female:  22.73 % \t male:  77.27 %\n",
      "char:  x \t female:  50.0 % \t male:  50.0 %\n",
      "char:  y \t female:  58.13 % \t male:  41.87 %\n",
      "char:  z \t female:  26.67 % \t male:  73.33 %\n"
     ]
    }
   ],
   "source": [
    "for index in probability_dict:\n",
    "    if probability_dict[index] != 'Nobody':\n",
    "        female = round(probability_dict[index]*100,2)\n",
    "        male = round(100-female,2)\n",
    "        print('char: ',index,'\\t','female: ',female,'%','\\t','male: ',male,'%')\n",
    "    else:\n",
    "        print('char: ',index,'\\t', probability_dict[index])"
   ]
  }
 ],
 "metadata": {
  "anaconda-cloud": {},
  "kernelspec": {
   "display_name": "Python [conda root]",
   "language": "python",
   "name": "conda-root-py"
  },
  "language_info": {
   "codemirror_mode": {
    "name": "ipython",
    "version": 3
   },
   "file_extension": ".py",
   "mimetype": "text/x-python",
   "name": "python",
   "nbconvert_exporter": "python",
   "pygments_lexer": "ipython3",
   "version": "3.5.2"
  }
 },
 "nbformat": 4,
 "nbformat_minor": 1
}
