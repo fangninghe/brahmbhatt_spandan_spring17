{
 "cells": [
  {
   "cell_type": "markdown",
   "metadata": {},
   "source": [
    "# Question 1\n",
    "- Under package Gutenberg, see what files are in it.\n",
    "- Find out how many words and how many unique words in file 'austen-persuasion.txt'.\n",
    "- Calculate the frequency for each words and show the top 10 most frequent words and their frequency.\n",
    "- Try NOT to use FreqDist module.\n",
    "- Keep the punctuation and stop words in this question."
   ]
  },
  {
   "cell_type": "code",
   "execution_count": 1,
   "metadata": {
    "collapsed": true
   },
   "outputs": [],
   "source": [
    "import nltk"
   ]
  },
  {
   "cell_type": "code",
   "execution_count": 2,
   "metadata": {
    "collapsed": false
   },
   "outputs": [
    {
     "data": {
      "text/plain": [
       "['austen-emma.txt',\n",
       " 'austen-persuasion.txt',\n",
       " 'austen-sense.txt',\n",
       " 'bible-kjv.txt',\n",
       " 'blake-poems.txt',\n",
       " 'bryant-stories.txt',\n",
       " 'burgess-busterbrown.txt',\n",
       " 'carroll-alice.txt',\n",
       " 'chesterton-ball.txt',\n",
       " 'chesterton-brown.txt',\n",
       " 'chesterton-thursday.txt',\n",
       " 'edgeworth-parents.txt',\n",
       " 'melville-moby_dick.txt',\n",
       " 'milton-paradise.txt',\n",
       " 'shakespeare-caesar.txt',\n",
       " 'shakespeare-hamlet.txt',\n",
       " 'shakespeare-macbeth.txt',\n",
       " 'whitman-leaves.txt']"
      ]
     },
     "execution_count": 2,
     "metadata": {},
     "output_type": "execute_result"
    }
   ],
   "source": [
    "nltk.corpus.gutenberg.fileids() #See all the files"
   ]
  },
  {
   "cell_type": "code",
   "execution_count": 3,
   "metadata": {
    "collapsed": true
   },
   "outputs": [],
   "source": [
    "persuation = nltk.corpus.gutenberg.words('austen-persuasion.txt') #read file"
   ]
  },
  {
   "cell_type": "code",
   "execution_count": 4,
   "metadata": {
    "collapsed": true
   },
   "outputs": [],
   "source": [
    "lower_persuation = [x.lower() for x in list(persuation)]   #lowercase the file"
   ]
  },
  {
   "cell_type": "markdown",
   "metadata": {},
   "source": [
    "## Words and Unique words"
   ]
  },
  {
   "cell_type": "code",
   "execution_count": 5,
   "metadata": {
    "collapsed": false
   },
   "outputs": [
    {
     "name": "stdout",
     "output_type": "stream",
     "text": [
      "Number of words:  98171\n",
      "Number of unique words:  5835\n"
     ]
    }
   ],
   "source": [
    "print('Number of words: ',len(lower_persuation)) #the number of the words\n",
    "print('Number of unique words: ',len(set(lower_persuation))) #the number or the unique word"
   ]
  },
  {
   "cell_type": "markdown",
   "metadata": {},
   "source": [
    "## Solution 1 for top 10 words"
   ]
  },
  {
   "cell_type": "code",
   "execution_count": 6,
   "metadata": {
    "collapsed": true
   },
   "outputs": [],
   "source": [
    "word_freq = {}\n",
    "for word in lower_persuation:\n",
    "    word_freq[word] = word_freq.get(word, 0) + 1   # count the word frequency"
   ]
  },
  {
   "cell_type": "code",
   "execution_count": 12,
   "metadata": {
    "collapsed": false
   },
   "outputs": [
    {
     "data": {
      "text/plain": [
       "[(',', 6750),\n",
       " ('the', 3329),\n",
       " ('to', 2808),\n",
       " ('and', 2801),\n",
       " ('.', 2741),\n",
       " ('of', 2570),\n",
       " ('a', 1595),\n",
       " ('in', 1389),\n",
       " ('was', 1337),\n",
       " (';', 1290),\n",
       " ('her', 1204),\n",
       " ('had', 1186),\n",
       " ('she', 1146),\n",
       " ('i', 1124),\n",
       " ('it', 1038),\n",
       " ('he', 961),\n",
       " ('be', 950),\n",
       " ('not', 934),\n",
       " ('that', 882),\n",
       " ('as', 809)]"
      ]
     },
     "execution_count": 12,
     "metadata": {},
     "output_type": "execute_result"
    }
   ],
   "source": [
    "sorted_wordlist = sorted(word_freq.items(), key=lambda item: item[1], reverse = True)\n",
    "sorted_wordlist[:20]                                                                          #sorted all the words"
   ]
  },
  {
   "cell_type": "code",
   "execution_count": 9,
   "metadata": {
    "collapsed": false
   },
   "outputs": [
    {
     "data": {
      "text/plain": [
       "{',': 6750,\n",
       " '.': 2741,\n",
       " ';': 1290,\n",
       " 'a': 1595,\n",
       " 'and': 2801,\n",
       " 'in': 1389,\n",
       " 'of': 2570,\n",
       " 'the': 3329,\n",
       " 'to': 2808,\n",
       " 'was': 1337}"
      ]
     },
     "execution_count": 9,
     "metadata": {},
     "output_type": "execute_result"
    }
   ],
   "source": [
    "top_ten = { key:value for key, value in word_freq.items() if value >1204 } #get top ten words\n",
    "top_ten"
   ]
  },
  {
   "cell_type": "code",
   "execution_count": 10,
   "metadata": {
    "collapsed": false
   },
   "outputs": [
    {
     "name": "stdout",
     "output_type": "stream",
     "text": [
      "Top ten most frequent words and their frequency:\n",
      "Word:  , \t Freqency:  6750\n",
      "Word:  the \t Freqency:  3329\n",
      "Word:  to \t Freqency:  2808\n",
      "Word:  and \t Freqency:  2801\n",
      "Word:  . \t Freqency:  2741\n",
      "Word:  of \t Freqency:  2570\n",
      "Word:  a \t Freqency:  1595\n",
      "Word:  in \t Freqency:  1389\n",
      "Word:  was \t Freqency:  1337\n",
      "Word:  ; \t Freqency:  1290\n"
     ]
    }
   ],
   "source": [
    "sorted_top_ten = sorted(top_ten.items(), key=lambda item: item[1], reverse = True) #sort top 10 words\n",
    "print(\"Top ten most frequent words and their frequency:\")\n",
    "for word,fre in sorted_top_ten:\n",
    "    print(\"Word: \", word, \"\\t\", \"Freqency: \", fre)"
   ]
  },
  {
   "cell_type": "markdown",
   "metadata": {},
   "source": [
    "## Solution 2 for top 10 words"
   ]
  },
  {
   "cell_type": "code",
   "execution_count": 11,
   "metadata": {
    "collapsed": false
   },
   "outputs": [
    {
     "name": "stdout",
     "output_type": "stream",
     "text": [
      "Top ten most frequent words and their frequency:\n",
      "Word:  , \t Freqency:  6750\n",
      "Word:  the \t Freqency:  3329\n",
      "Word:  to \t Freqency:  2808\n",
      "Word:  and \t Freqency:  2801\n",
      "Word:  . \t Freqency:  2741\n",
      "Word:  of \t Freqency:  2570\n",
      "Word:  a \t Freqency:  1595\n",
      "Word:  in \t Freqency:  1389\n",
      "Word:  was \t Freqency:  1337\n",
      "Word:  ; \t Freqency:  1290\n"
     ]
    }
   ],
   "source": [
    "from collections import Counter\n",
    "counts = Counter(lower_persuation) #count word frequency\n",
    "import collections\n",
    "top_ten = collections.Counter(counts).most_common(10) #list the top ten words\n",
    "print(\"Top ten most frequent words and their frequency:\")\n",
    "for word,fre in top_ten:\n",
    "    print(\"Word: \", word, \"\\t\", \"Freqency: \", fre)"
   ]
  },
  {
   "cell_type": "code",
   "execution_count": null,
   "metadata": {
    "collapsed": true
   },
   "outputs": [],
   "source": []
  }
 ],
 "metadata": {
  "anaconda-cloud": {},
  "kernelspec": {
   "display_name": "Python [conda root]",
   "language": "python",
   "name": "conda-root-py"
  },
  "language_info": {
   "codemirror_mode": {
    "name": "ipython",
    "version": 3
   },
   "file_extension": ".py",
   "mimetype": "text/x-python",
   "name": "python",
   "nbconvert_exporter": "python",
   "pygments_lexer": "ipython3",
   "version": "3.5.2"
  }
 },
 "nbformat": 4,
 "nbformat_minor": 1
}
