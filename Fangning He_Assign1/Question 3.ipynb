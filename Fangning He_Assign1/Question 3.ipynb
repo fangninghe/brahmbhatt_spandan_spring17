{
 "cells": [
  {
   "cell_type": "markdown",
   "metadata": {},
   "source": [
    "# Question 3\n",
    "- Under package Webtext, see what files are in it.\n",
    "- Get content in file 'pirates.txt'.\n",
    "- According to the number of lines for Jack Sparrow and Will Turner, find out who is the real leading man in this movie."
   ]
  },
  {
   "cell_type": "code",
   "execution_count": 1,
   "metadata": {
    "collapsed": true
   },
   "outputs": [],
   "source": [
    "import nltk"
   ]
  },
  {
   "cell_type": "code",
   "execution_count": 2,
   "metadata": {
    "collapsed": false
   },
   "outputs": [
    {
     "data": {
      "text/plain": [
       "['firefox.txt',\n",
       " 'grail.txt',\n",
       " 'overheard.txt',\n",
       " 'pirates.txt',\n",
       " 'singles.txt',\n",
       " 'wine.txt']"
      ]
     },
     "execution_count": 2,
     "metadata": {},
     "output_type": "execute_result"
    }
   ],
   "source": [
    "nltk.corpus.webtext.fileids() #see file under webtext package"
   ]
  },
  {
   "cell_type": "code",
   "execution_count": 4,
   "metadata": {
    "collapsed": true
   },
   "outputs": [],
   "source": [
    "pirates = list(nltk.corpus.webtext.words('pirates.txt')) #get the words in file"
   ]
  },
  {
   "cell_type": "code",
   "execution_count": 5,
   "metadata": {
    "collapsed": false
   },
   "outputs": [
    {
     "name": "stdout",
     "output_type": "stream",
     "text": [
      "['PIRATES', 'OF', 'THE', 'CARRIBEAN', ':', 'DEAD', 'MAN', \"'\", 'S', 'CHEST', ',', 'by', 'Ted', 'Elliott', '&', 'Terry', 'Rossio', '[', 'view', 'looking']\n"
     ]
    }
   ],
   "source": [
    "print(pirates[:20])"
   ]
  },
  {
   "cell_type": "code",
   "execution_count": 6,
   "metadata": {
    "collapsed": false
   },
   "outputs": [
    {
     "name": "stdout",
     "output_type": "stream",
     "text": [
      "Lines belong ot SPARROW:  193\n",
      "Lines belong ot TURNER:  133\n",
      "Sparrow is the leading man\n"
     ]
    }
   ],
   "source": [
    "a = 0\n",
    "b = 0\n",
    "for word in pirates:\n",
    "    if word == 'SPARROW':\n",
    "        a = a + 1\n",
    "    elif word == 'TURNER':\n",
    "        b = b + 1\n",
    "print(\"Lines belong ot SPARROW: \",a)\n",
    "print(\"Lines belong ot TURNER: \",b)\n",
    "if a > b:\n",
    "    print(\"Sparrow is the leading man\")\n",
    "else:\n",
    "    print(\"Turner is the leading man\") #find how many times of \"SPATTOW\" and \"TURNER\""
   ]
  }
 ],
 "metadata": {
  "anaconda-cloud": {},
  "kernelspec": {
   "display_name": "Python [conda root]",
   "language": "python",
   "name": "conda-root-py"
  },
  "language_info": {
   "codemirror_mode": {
    "name": "ipython",
    "version": 3
   },
   "file_extension": ".py",
   "mimetype": "text/x-python",
   "name": "python",
   "nbconvert_exporter": "python",
   "pygments_lexer": "ipython3",
   "version": "3.5.2"
  }
 },
 "nbformat": 4,
 "nbformat_minor": 1
}
