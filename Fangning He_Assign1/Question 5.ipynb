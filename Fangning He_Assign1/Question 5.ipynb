{
 "cells": [
  {
   "cell_type": "markdown",
   "metadata": {},
   "source": [
    "# Question 5\n",
    "- Use Gutenberg and Web_text data. Find out what are the top 5 words that Shakespeare used but we do not use in currently.\n",
    "- Take top 50 words from Shakespeare (all 3 books) and top 50 from Web_text (all the records).\n",
    "- Remove punctuation and stop words.\n",
    "- Remove the words we still use today, and get the unused list. Show the top 5 elements. "
   ]
  },
  {
   "cell_type": "code",
   "execution_count": 1,
   "metadata": {
    "collapsed": true
   },
   "outputs": [],
   "source": [
    "import nltk"
   ]
  },
  {
   "cell_type": "code",
   "execution_count": 2,
   "metadata": {
    "collapsed": true
   },
   "outputs": [],
   "source": [
    "from nltk.corpus import stopwords\n",
    "import string"
   ]
  },
  {
   "cell_type": "code",
   "execution_count": 3,
   "metadata": {
    "collapsed": true
   },
   "outputs": [],
   "source": [
    "stop = stopwords.words('english') #find all the stopwords"
   ]
  },
  {
   "cell_type": "code",
   "execution_count": 4,
   "metadata": {
    "collapsed": true
   },
   "outputs": [],
   "source": [
    "punctuation = list(string.punctuation) #find all the punctuation"
   ]
  },
  {
   "cell_type": "code",
   "execution_count": 5,
   "metadata": {
    "collapsed": true
   },
   "outputs": [],
   "source": [
    "def clean_list(folder,file):    \n",
    "    clean_list = []\n",
    "    for word in folder.fileids():\n",
    "        if file in word:\n",
    "            word_list = folder.words(word) #read file\n",
    "            word_list = [word.lower() for word in word_list]   #lowercase\n",
    "            word_list = [word for word in word_list if word not in punctuation] #remove punctuation\n",
    "            word_list = [word for word in word_list if word not in stop] #remove stopwords\n",
    "            clean_list.extend(word_list)\n",
    "    return clean_list"
   ]
  },
  {
   "cell_type": "code",
   "execution_count": 7,
   "metadata": {
    "collapsed": false
   },
   "outputs": [
    {
     "name": "stdout",
     "output_type": "stream",
     "text": [
      "['cookie', 'manager', 'allow', 'sites', 'set', 'removed', 'cookies', 'set', 'future', 'cookies', 'stay', 'checked', 'full', 'screen', 'mode', 'pressing', 'ctrl', 'n', 'open', 'new']\n"
     ]
    }
   ],
   "source": [
    "current_words = clean_list(nltk.corpus.webtext,'txt')  # get the current words\n",
    "print(current_words[:20])"
   ]
  },
  {
   "cell_type": "code",
   "execution_count": 8,
   "metadata": {
    "collapsed": false
   },
   "outputs": [
    {
     "name": "stdout",
     "output_type": "stream",
     "text": [
      "['tragedie', 'julius', 'caesar', 'william', 'shakespeare', '1599', 'actus', 'primus', 'scoena', 'prima', 'enter', 'flauius', 'murellus', 'certaine', 'commoners', 'ouer', 'stage', 'flauius', 'hence', 'home']\n"
     ]
    }
   ],
   "source": [
    "old_words = clean_list(nltk.corpus.gutenberg,'shakespeare') # get the old words\n",
    "print(old_words[:20])"
   ]
  },
  {
   "cell_type": "code",
   "execution_count": 9,
   "metadata": {
    "collapsed": true
   },
   "outputs": [],
   "source": [
    "import collections"
   ]
  },
  {
   "cell_type": "markdown",
   "metadata": {},
   "source": [
    "## Top 50 words in Shakespreare"
   ]
  },
  {
   "cell_type": "code",
   "execution_count": 12,
   "metadata": {
    "collapsed": false
   },
   "outputs": [
    {
     "name": "stdout",
     "output_type": "stream",
     "text": [
      "50 top words in Shakespeare: \n",
      "1  Word:  haue \t Frequency:  448\n",
      "2  Word:  ham \t Frequency:  337\n",
      "3  Word:  thou \t Frequency:  312\n",
      "4  Word:  shall \t Frequency:  300\n",
      "5  Word:  lord \t Frequency:  293\n",
      "6  Word:  come \t Frequency:  232\n",
      "7  Word:  king \t Frequency:  231\n",
      "8  Word:  enter \t Frequency:  230\n",
      "9  Word:  good \t Frequency:  218\n",
      "10  Word:  let \t Frequency:  217\n",
      "11  Word:  thy \t Frequency:  202\n",
      "12  Word:  caesar \t Frequency:  193\n",
      "13  Word:  vs \t Frequency:  184\n",
      "14  Word:  know \t Frequency:  176\n",
      "15  Word:  thee \t Frequency:  174\n",
      "16  Word:  would \t Frequency:  170\n",
      "17  Word:  brutus \t Frequency:  162\n",
      "18  Word:  vpon \t Frequency:  162\n",
      "19  Word:  like \t Frequency:  162\n",
      "20  Word:  bru \t Frequency:  153\n",
      "21  Word:  well \t Frequency:  152\n",
      "22  Word:  hath \t Frequency:  144\n",
      "23  Word:  selfe \t Frequency:  143\n",
      "24  Word:  man \t Frequency:  139\n",
      "25  Word:  may \t Frequency:  138\n",
      "26  Word:  macb \t Frequency:  137\n",
      "27  Word:  yet \t Frequency:  136\n",
      "28  Word:  heere \t Frequency:  135\n",
      "29  Word:  must \t Frequency:  130\n",
      "30  Word:  say \t Frequency:  130\n",
      "31  Word:  tis \t Frequency:  129\n",
      "32  Word:  th \t Frequency:  125\n",
      "33  Word:  speake \t Frequency:  119\n",
      "34  Word:  loue \t Frequency:  119\n",
      "35  Word:  make \t Frequency:  119\n",
      "36  Word:  giue \t Frequency:  118\n",
      "37  Word:  see \t Frequency:  116\n",
      "38  Word:  time \t Frequency:  115\n",
      "39  Word:  sir \t Frequency:  114\n",
      "40  Word:  night \t Frequency:  114\n",
      "41  Word:  one \t Frequency:  112\n",
      "42  Word:  st \t Frequency:  110\n",
      "43  Word:  cassi \t Frequency:  107\n",
      "44  Word:  ile \t Frequency:  106\n",
      "45  Word:  doe \t Frequency:  103\n",
      "46  Word:  go \t Frequency:  100\n",
      "47  Word:  hamlet \t Frequency:  100\n",
      "48  Word:  men \t Frequency:  96\n",
      "49  Word:  hor \t Frequency:  95\n",
      "50  Word:  vp \t Frequency:  94\n"
     ]
    }
   ],
   "source": [
    "print('50 top words in Shakespeare: ')\n",
    "a = 1\n",
    "for word,fre in collections.Counter(old_words).most_common(50):\n",
    "    print(a, \" Word: \", word, \"\\t\", \"Frequency: \", fre)\n",
    "    a = a + 1"
   ]
  },
  {
   "cell_type": "markdown",
   "metadata": {},
   "source": [
    "## Top 50 words in Web_text"
   ]
  },
  {
   "cell_type": "code",
   "execution_count": 11,
   "metadata": {
    "collapsed": false
   },
   "outputs": [
    {
     "name": "stdout",
     "output_type": "stream",
     "text": [
      "50 top words in Web_text: \n",
      "1  Word:  girl \t Frequency:  2956\n",
      "2  Word:  guy \t Frequency:  2751\n",
      "3  Word:  1 \t Frequency:  2261\n",
      "4  Word:  2 \t Frequency:  1709\n",
      "5  Word:  like \t Frequency:  1696\n",
      "6  Word:  ... \t Frequency:  1542\n",
      "7  Word:  man \t Frequency:  1075\n",
      "8  Word:  know \t Frequency:  1025\n",
      "9  Word:  woman \t Frequency:  998\n",
      "10  Word:  yeah \t Frequency:  895\n",
      "11  Word:  page \t Frequency:  887\n",
      "12  Word:  firefox \t Frequency:  879\n",
      "13  Word:  get \t Frequency:  869\n",
      "14  Word:  new \t Frequency:  790\n",
      "15  Word:  chick \t Frequency:  714\n",
      "16  Word:  one \t Frequency:  700\n",
      "17  Word:  oh \t Frequency:  682\n",
      "18  Word:  open \t Frequency:  679\n",
      "19  Word:  window \t Frequency:  670\n",
      "20  Word:  good \t Frequency:  644\n",
      "21  Word:  bookmarks \t Frequency:  598\n",
      "22  Word:  teen \t Frequency:  587\n",
      "23  Word:  well \t Frequency:  586\n",
      "24  Word:  firebird \t Frequency:  583\n",
      "25  Word:  cell \t Frequency:  577\n",
      "26  Word:  right \t Frequency:  576\n",
      "27  Word:  go \t Frequency:  564\n",
      "28  Word:  work \t Frequency:  537\n",
      "29  Word:  bar \t Frequency:  536\n",
      "30  Word:  menu \t Frequency:  530\n",
      "31  Word:  tab \t Frequency:  529\n",
      "32  Word:  lady \t Frequency:  524\n",
      "33  Word:  toolbar \t Frequency:  518\n",
      "34  Word:  *** \t Frequency:  498\n",
      "35  Word:  boy \t Frequency:  488\n",
      "36  Word:  want \t Frequency:  485\n",
      "37  Word:  browser \t Frequency:  484\n",
      "38  Word:  think \t Frequency:  484\n",
      "39  Word:  jack \t Frequency:  483\n",
      "40  Word:  bookmark \t Frequency:  482\n",
      "41  Word:  old \t Frequency:  475\n",
      "42  Word:  really \t Frequency:  473\n",
      "43  Word:  going \t Frequency:  460\n",
      "44  Word:  download \t Frequency:  442\n",
      "45  Word:  url \t Frequency:  440\n",
      "46  Word:  back \t Frequency:  434\n",
      "47  Word:  time \t Frequency:  432\n",
      "48  Word:  black \t Frequency:  422\n",
      "49  Word:  manager \t Frequency:  420\n",
      "50  Word:  little \t Frequency:  419\n"
     ]
    }
   ],
   "source": [
    "print('50 top words in Web_text: ')\n",
    "a = 1\n",
    "for word,fre in collections.Counter(current_words).most_common(50):\n",
    "    print(a, \" Word: \", word, \"\\t\", \"Frequency: \", fre)\n",
    "    a = a + 1"
   ]
  },
  {
   "cell_type": "markdown",
   "metadata": {},
   "source": [
    "## Top 5 unused words"
   ]
  },
  {
   "cell_type": "code",
   "execution_count": 13,
   "metadata": {
    "collapsed": true
   },
   "outputs": [],
   "source": [
    "unused_word = [unused_word for unused_word in old_words if unused_word not in current_words]"
   ]
  },
  {
   "cell_type": "code",
   "execution_count": 14,
   "metadata": {
    "collapsed": false
   },
   "outputs": [
    {
     "name": "stdout",
     "output_type": "stream",
     "text": [
      "5 top words in unused words: \n",
      "Word:  haue \t Frequency:  448\n",
      "Word:  brutus \t Frequency:  162\n",
      "Word:  vpon \t Frequency:  162\n",
      "Word:  bru \t Frequency:  153\n",
      "Word:  hath \t Frequency:  144\n"
     ]
    }
   ],
   "source": [
    "print('5 top words in unused words: ')\n",
    "for word,fre in collections.Counter(unused_word).most_common(5):\n",
    "    print(\"Word: \", word, \"\\t\", \"Frequency: \", fre)"
   ]
  }
 ],
 "metadata": {
  "anaconda-cloud": {},
  "kernelspec": {
   "display_name": "Python [conda root]",
   "language": "python",
   "name": "conda-root-py"
  },
  "language_info": {
   "codemirror_mode": {
    "name": "ipython",
    "version": 3
   },
   "file_extension": ".py",
   "mimetype": "text/x-python",
   "name": "python",
   "nbconvert_exporter": "python",
   "pygments_lexer": "ipython3",
   "version": "3.5.2"
  }
 },
 "nbformat": 4,
 "nbformat_minor": 1
}
