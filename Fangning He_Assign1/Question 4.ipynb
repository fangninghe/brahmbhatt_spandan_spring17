{
 "cells": [
  {
   "cell_type": "markdown",
   "metadata": {},
   "source": [
    "# Question 4\n",
    "- Under package nps_chat, see what files are in it.\n",
    "- Find 'user121' and see how many posts he posted in all.\n",
    "- Find out how many unique user in each age range group. (20s, 30s,...)(Hint: files' name)"
   ]
  },
  {
   "cell_type": "code",
   "execution_count": 1,
   "metadata": {
    "collapsed": true
   },
   "outputs": [],
   "source": [
    "import nltk"
   ]
  },
  {
   "cell_type": "markdown",
   "metadata": {},
   "source": [
    "## Find the number of post for user121"
   ]
  },
  {
   "cell_type": "code",
   "execution_count": 2,
   "metadata": {
    "collapsed": false
   },
   "outputs": [
    {
     "data": {
      "text/plain": [
       "['10-19-20s_706posts.xml',\n",
       " '10-19-30s_705posts.xml',\n",
       " '10-19-40s_686posts.xml',\n",
       " '10-19-adults_706posts.xml',\n",
       " '10-24-40s_706posts.xml',\n",
       " '10-26-teens_706posts.xml',\n",
       " '11-06-adults_706posts.xml',\n",
       " '11-08-20s_705posts.xml',\n",
       " '11-08-40s_706posts.xml',\n",
       " '11-08-adults_705posts.xml',\n",
       " '11-08-teens_706posts.xml',\n",
       " '11-09-20s_706posts.xml',\n",
       " '11-09-40s_706posts.xml',\n",
       " '11-09-adults_706posts.xml',\n",
       " '11-09-teens_706posts.xml']"
      ]
     },
     "execution_count": 2,
     "metadata": {},
     "output_type": "execute_result"
    }
   ],
   "source": [
    "nltk.corpus.nps_chat.fileids() #read files"
   ]
  },
  {
   "cell_type": "code",
   "execution_count": 3,
   "metadata": {
    "collapsed": true
   },
   "outputs": [],
   "source": [
    "file_list = []\n",
    "for f in nltk.corpus.nps_chat.fileids():\n",
    "    file_list.append(nltk.corpus.nps_chat.open(f))           "
   ]
  },
  {
   "cell_type": "code",
   "execution_count": 4,
   "metadata": {
    "collapsed": false
   },
   "outputs": [
    {
     "name": "stdout",
     "output_type": "stream",
     "text": [
      "The number of post of User121:  132\n"
     ]
    }
   ],
   "source": [
    "b = 0\n",
    "for sent in file_list:\n",
    "    for ssent in sent:\n",
    "        if 'User121\">' in ssent:\n",
    "                b = b + 1\n",
    "print(\"The number of post of User121: \",b)         #find key word \"User121\" in all the files"
   ]
  },
  {
   "cell_type": "markdown",
   "metadata": {},
   "source": [
    "## Find unique users in each age range"
   ]
  },
  {
   "cell_type": "markdown",
   "metadata": {},
   "source": [
    "### Age 20"
   ]
  },
  {
   "cell_type": "code",
   "execution_count": 5,
   "metadata": {
    "collapsed": true
   },
   "outputs": [],
   "source": [
    "age20_list = []\n",
    "for post in nltk.corpus.nps_chat.fileids():\n",
    "    if '20' in post:\n",
    "        post20 = list(nltk.corpus.nps_chat.open(post))\n",
    "        age20_list.append(post20)"
   ]
  },
  {
   "cell_type": "code",
   "execution_count": 13,
   "metadata": {
    "collapsed": false
   },
   "outputs": [
    {
     "data": {
      "text/plain": [
       "['user=\"10-19-20sUser7',\n",
       " 'user=\"10-19-20sUser7',\n",
       " 'user=\"10-19-20sUser76',\n",
       " 'user=\"10-19-20sUser59',\n",
       " 'user=\"10-19-20sUser115',\n",
       " 'user=\"10-19-20sUser7',\n",
       " 'user=\"10-19-20sUser121',\n",
       " 'user=\"10-19-20sUser84',\n",
       " 'user=\"10-19-20sUser7',\n",
       " 'user=\"10-19-20sUser123',\n",
       " 'user=\"10-19-20sUser115',\n",
       " 'user=\"10-19-20sUser21',\n",
       " 'user=\"10-19-20sUser124',\n",
       " 'user=\"10-19-20sUser77',\n",
       " 'user=\"10-19-20sUser115',\n",
       " 'user=\"10-19-20sUser121',\n",
       " 'user=\"10-19-20sUser7',\n",
       " 'user=\"10-19-20sUser59',\n",
       " 'user=\"10-19-20sUser122',\n",
       " 'user=\"10-19-20sUser117']"
      ]
     },
     "execution_count": 13,
     "metadata": {},
     "output_type": "execute_result"
    }
   ],
   "source": [
    "username_list = []\n",
    "for usernames in age20_list:\n",
    "    for username in usernames:\n",
    "        username = username[username.find('user='):username.find('\">')]\n",
    "        if len(username)>0:                           # collect all the usernames\n",
    "            username_list.append(username)\n",
    "username_list[:20]"
   ]
  },
  {
   "cell_type": "code",
   "execution_count": 22,
   "metadata": {
    "collapsed": false
   },
   "outputs": [
    {
     "data": {
      "text/plain": [
       "['User7',\n",
       " 'User7',\n",
       " 'User76',\n",
       " 'User59',\n",
       " 'User115',\n",
       " 'User7',\n",
       " 'User121',\n",
       " 'User84',\n",
       " 'User7',\n",
       " 'User123',\n",
       " 'User115',\n",
       " 'User21',\n",
       " 'User124',\n",
       " 'User77',\n",
       " 'User115',\n",
       " 'User121',\n",
       " 'User7',\n",
       " 'User59',\n",
       " 'User122',\n",
       " 'User117']"
      ]
     },
     "execution_count": 22,
     "metadata": {},
     "output_type": "execute_result"
    }
   ],
   "source": [
    "username_list_new = []\n",
    "for username in username_list:\n",
    "    username = username[username.find('U'):]    # clean the usernames\n",
    "    username_list_new.append(username)\n",
    "username_list_new[:20]"
   ]
  },
  {
   "cell_type": "markdown",
   "metadata": {},
   "source": [
    "### Age 30"
   ]
  },
  {
   "cell_type": "code",
   "execution_count": 12,
   "metadata": {
    "collapsed": true
   },
   "outputs": [],
   "source": [
    "post30 = list(nltk.corpus.nps_chat.open(\"10-19-30s_705posts.xml\"))"
   ]
  },
  {
   "cell_type": "code",
   "execution_count": 17,
   "metadata": {
    "collapsed": false
   },
   "outputs": [
    {
     "data": {
      "text/plain": [
       "['user=\"10-19-30sUser2',\n",
       " 'user=\"10-19-30sUser9',\n",
       " 'user=\"10-19-30sUser2',\n",
       " 'user=\"10-19-30sUser9',\n",
       " 'user=\"10-19-30sUser11',\n",
       " 'user=\"10-19-30sUser9',\n",
       " 'user=\"10-19-30sUser13',\n",
       " 'user=\"10-19-30sUser15',\n",
       " 'user=\"10-19-30sUser9',\n",
       " 'user=\"10-19-30sUser16',\n",
       " 'user=\"10-19-30sUser15',\n",
       " 'user=\"10-19-30sUser7',\n",
       " 'user=\"10-19-30sUser2',\n",
       " 'user=\"10-19-30sUser2',\n",
       " 'user=\"10-19-30sUser11',\n",
       " 'user=\"10-19-30sUser7',\n",
       " 'user=\"10-19-30sUser11',\n",
       " 'user=\"10-19-30sUser15',\n",
       " 'user=\"10-19-30sUser10',\n",
       " 'user=\"10-19-30sUser9']"
      ]
     },
     "execution_count": 17,
     "metadata": {},
     "output_type": "execute_result"
    }
   ],
   "source": [
    "username_list30 = []\n",
    "for username in post30:\n",
    "    username = username[username.find('user='):username.find('\">')]\n",
    "    if len(username)>1:\n",
    "        username_list30.append(username)\n",
    "username_list30[:20]"
   ]
  },
  {
   "cell_type": "code",
   "execution_count": 19,
   "metadata": {
    "collapsed": false
   },
   "outputs": [
    {
     "data": {
      "text/plain": [
       "['User2',\n",
       " 'User9',\n",
       " 'User2',\n",
       " 'User9',\n",
       " 'User11',\n",
       " 'User9',\n",
       " 'User13',\n",
       " 'User15',\n",
       " 'User9',\n",
       " 'User16',\n",
       " 'User15',\n",
       " 'User7',\n",
       " 'User2',\n",
       " 'User2',\n",
       " 'User11',\n",
       " 'User7',\n",
       " 'User11',\n",
       " 'User15',\n",
       " 'User10',\n",
       " 'User9']"
      ]
     },
     "execution_count": 19,
     "metadata": {},
     "output_type": "execute_result"
    }
   ],
   "source": [
    "username_list_new30 = []\n",
    "for username in username_list30:\n",
    "    username = username[username.find('U'):]\n",
    "    username_list_new30.append(username)\n",
    "username_list_new30[:20]"
   ]
  },
  {
   "cell_type": "markdown",
   "metadata": {},
   "source": [
    "### Age 40"
   ]
  },
  {
   "cell_type": "code",
   "execution_count": 23,
   "metadata": {
    "collapsed": true
   },
   "outputs": [],
   "source": [
    "age40_list = []\n",
    "for post in nltk.corpus.nps_chat.fileids():\n",
    "    if '40' in post:\n",
    "        post40 = list(nltk.corpus.nps_chat.open(post))\n",
    "        age40_list.append(post40)"
   ]
  },
  {
   "cell_type": "code",
   "execution_count": 24,
   "metadata": {
    "collapsed": false
   },
   "outputs": [
    {
     "data": {
      "text/plain": [
       "['user=\"10-19-40sUser25',\n",
       " 'user=\"10-19-40sUser9',\n",
       " 'user=\"10-19-40sUser16',\n",
       " 'user=\"10-19-40sUser19',\n",
       " 'user=\"10-19-40sUser27',\n",
       " 'user=\"10-19-40sUser20',\n",
       " 'user=\"10-19-40sUser26',\n",
       " 'user=\"10-19-40sUser3',\n",
       " 'user=\"10-19-40sUser12',\n",
       " 'user=\"10-19-40sUser25',\n",
       " 'user=\"10-19-40sUser19',\n",
       " 'user=\"10-19-40sUser16',\n",
       " 'user=\"10-19-40sUser26',\n",
       " 'user=\"10-19-40sUser11',\n",
       " 'user=\"10-19-40sUser9',\n",
       " 'user=\"10-19-40sUser28',\n",
       " 'user=\"10-19-40sUser11',\n",
       " 'user=\"10-19-40sUser27',\n",
       " 'user=\"10-19-40sUser27',\n",
       " 'user=\"10-19-40sUser24']"
      ]
     },
     "execution_count": 24,
     "metadata": {},
     "output_type": "execute_result"
    }
   ],
   "source": [
    "username_list40 = []\n",
    "for usernames in age40_list:\n",
    "    for username in usernames:\n",
    "        username = username[username.find('user='):username.find('\">')]  # collect all the usernames\n",
    "        if len(username)>0:\n",
    "            username_list40.append(username)\n",
    "username_list40[:20]"
   ]
  },
  {
   "cell_type": "code",
   "execution_count": 25,
   "metadata": {
    "collapsed": false
   },
   "outputs": [
    {
     "data": {
      "text/plain": [
       "['User25',\n",
       " 'User9',\n",
       " 'User16',\n",
       " 'User19',\n",
       " 'User27',\n",
       " 'User20',\n",
       " 'User26',\n",
       " 'User3',\n",
       " 'User12',\n",
       " 'User25',\n",
       " 'User19',\n",
       " 'User16',\n",
       " 'User26',\n",
       " 'User11',\n",
       " 'User9',\n",
       " 'User28',\n",
       " 'User11',\n",
       " 'User27',\n",
       " 'User27',\n",
       " 'User24']"
      ]
     },
     "execution_count": 25,
     "metadata": {},
     "output_type": "execute_result"
    }
   ],
   "source": [
    "username_list_new40 = []\n",
    "for username in username_list40:\n",
    "    username = username[username.find('U'):]    # clean the usernames\n",
    "    username_list_new40.append(username)\n",
    "username_list_new40[:20]"
   ]
  },
  {
   "cell_type": "markdown",
   "metadata": {},
   "source": [
    "### Group adult"
   ]
  },
  {
   "cell_type": "code",
   "execution_count": 26,
   "metadata": {
    "collapsed": true
   },
   "outputs": [],
   "source": [
    "age_adult_list = []\n",
    "for post in nltk.corpus.nps_chat.fileids():\n",
    "    if 'adults' in post:\n",
    "        post_adult = list(nltk.corpus.nps_chat.open(post))\n",
    "        age_adult_list.append(post_adult)"
   ]
  },
  {
   "cell_type": "code",
   "execution_count": 27,
   "metadata": {
    "collapsed": false
   },
   "outputs": [
    {
     "data": {
      "text/plain": [
       "['user=\"10-19-adultsUser3',\n",
       " 'user=\"10-19-adultsUser3',\n",
       " 'user=\"10-19-adultsUser16',\n",
       " 'user=\"10-19-adultsUser16',\n",
       " 'user=\"10-19-adultsUser14',\n",
       " 'user=\"10-19-adultsUser32',\n",
       " 'user=\"10-19-adultsUser15',\n",
       " 'user=\"10-19-adultsUser23',\n",
       " 'user=\"10-19-adultsUser19',\n",
       " 'user=\"10-19-adultsUser29']"
      ]
     },
     "execution_count": 27,
     "metadata": {},
     "output_type": "execute_result"
    }
   ],
   "source": [
    "username_adult_list = []\n",
    "for usernames in age_adult_list:\n",
    "    for username in usernames:\n",
    "        username = username[username.find('user='):username.find('\">')]  # collect all the usernames\n",
    "        if len(username)>0:\n",
    "            username_adult_list.append(username)\n",
    "username_adult_list[:10]"
   ]
  },
  {
   "cell_type": "code",
   "execution_count": 28,
   "metadata": {
    "collapsed": false
   },
   "outputs": [
    {
     "data": {
      "text/plain": [
       "['User3',\n",
       " 'User3',\n",
       " 'User16',\n",
       " 'User16',\n",
       " 'User14',\n",
       " 'User32',\n",
       " 'User15',\n",
       " 'User23',\n",
       " 'User19',\n",
       " 'User29',\n",
       " 'User19',\n",
       " 'User35',\n",
       " 'User35',\n",
       " 'User28',\n",
       " 'User35',\n",
       " 'User17',\n",
       " 'User12',\n",
       " 'User32',\n",
       " 'User16',\n",
       " 'User12']"
      ]
     },
     "execution_count": 28,
     "metadata": {},
     "output_type": "execute_result"
    }
   ],
   "source": [
    "username_list_new_adult = []\n",
    "for username in username_adult_list:\n",
    "    username = username[username.find('U'):]    # clean the usernames\n",
    "    username_list_new_adult.append(username)\n",
    "username_list_new_adult[:20]"
   ]
  },
  {
   "cell_type": "markdown",
   "metadata": {},
   "source": [
    "### Group Teen"
   ]
  },
  {
   "cell_type": "code",
   "execution_count": 29,
   "metadata": {
    "collapsed": true
   },
   "outputs": [],
   "source": [
    "age_teen_list = []\n",
    "for post in nltk.corpus.nps_chat.fileids():\n",
    "    if 'teens' in post:\n",
    "        post_teen = list(nltk.corpus.nps_chat.open(post))\n",
    "        age_teen_list.append(post_teen)"
   ]
  },
  {
   "cell_type": "code",
   "execution_count": 31,
   "metadata": {
    "collapsed": false
   },
   "outputs": [
    {
     "data": {
      "text/plain": [
       "['user=\"10-26-teensUser66',\n",
       " 'user=\"10-26-teensUser80',\n",
       " 'user=\"10-26-teensUser80',\n",
       " 'user=\"10-26-teensUser81',\n",
       " 'user=\"10-26-teensUser29',\n",
       " 'user=\"10-26-teensUser82',\n",
       " 'user=\"10-26-teensUser83',\n",
       " 'user=\"10-26-teensUser58',\n",
       " 'user=\"10-26-teensUser77',\n",
       " 'user=\"10-26-teensUser22']"
      ]
     },
     "execution_count": 31,
     "metadata": {},
     "output_type": "execute_result"
    }
   ],
   "source": [
    "username_teen_list = []\n",
    "for usernames in age_teen_list:\n",
    "    for username in usernames:\n",
    "        username = username[username.find('user='):username.find('\">')]  # collect all the usernames\n",
    "        if len(username)>0:\n",
    "            username_teen_list.append(username)\n",
    "username_teen_list[:10]"
   ]
  },
  {
   "cell_type": "code",
   "execution_count": 32,
   "metadata": {
    "collapsed": false
   },
   "outputs": [
    {
     "data": {
      "text/plain": [
       "['User66',\n",
       " 'User80',\n",
       " 'User80',\n",
       " 'User81',\n",
       " 'User29',\n",
       " 'User82',\n",
       " 'User83',\n",
       " 'User58',\n",
       " 'User77',\n",
       " 'User22',\n",
       " 'User84',\n",
       " 'User53',\n",
       " 'User17',\n",
       " 'User85',\n",
       " 'User59',\n",
       " 'User59',\n",
       " 'User33',\n",
       " 'User86',\n",
       " 'User86',\n",
       " 'User86']"
      ]
     },
     "execution_count": 32,
     "metadata": {},
     "output_type": "execute_result"
    }
   ],
   "source": [
    "username_list_new_teen = []\n",
    "for username in username_teen_list:\n",
    "    username = username[username.find('U'):]    # clean the usernames\n",
    "    username_list_new_teen.append(username)\n",
    "username_list_new_teen[:20]"
   ]
  },
  {
   "cell_type": "markdown",
   "metadata": {},
   "source": [
    "### Final result"
   ]
  },
  {
   "cell_type": "code",
   "execution_count": 33,
   "metadata": {
    "collapsed": false
   },
   "outputs": [
    {
     "name": "stdout",
     "output_type": "stream",
     "text": [
      "Number of age20 group:  162\n",
      "Number of age30 group:  44\n",
      "Number of age40 group:  80\n",
      "Number of adult group:  138\n",
      "Number of teen group:  206\n"
     ]
    }
   ],
   "source": [
    "print(\"Number of age20 group: \",len(set(username_list_new)))\n",
    "print(\"Number of age30 group: \",len(set(username_list_new30)))\n",
    "print(\"Number of age40 group: \",len(set(username_list_new40)))\n",
    "print(\"Number of adult group: \",len(set(username_list_new_adult)))\n",
    "print(\"Number of teen group: \",len(set(username_list_new_teen)))"
   ]
  }
 ],
 "metadata": {
  "anaconda-cloud": {},
  "kernelspec": {
   "display_name": "Python [conda root]",
   "language": "python",
   "name": "conda-root-py"
  },
  "language_info": {
   "codemirror_mode": {
    "name": "ipython",
    "version": 3
   },
   "file_extension": ".py",
   "mimetype": "text/x-python",
   "name": "python",
   "nbconvert_exporter": "python",
   "pygments_lexer": "ipython3",
   "version": "3.5.2"
  }
 },
 "nbformat": 4,
 "nbformat_minor": 1
}
