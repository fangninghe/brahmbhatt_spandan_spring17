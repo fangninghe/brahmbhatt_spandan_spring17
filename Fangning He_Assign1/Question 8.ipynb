{
 "cells": [
  {
   "cell_type": "markdown",
   "metadata": {},
   "source": [
    "# Question 8\n",
    "- Use nps_chat and wordlist corpus.\n",
    "- If you find a word in nps_chat but not in wordlist, it is considered an unusual word. (e.g. Heyyyy, gr8, 4ever can be considered unusual words for this analysis)\n",
    "- Find out how many unusual words people speak in chat (notice: usernames should not be counted)\n",
    "- Bonus: What if I want to  count : ) , : ( all these emoticons in. (optional)"
   ]
  },
  {
   "cell_type": "code",
   "execution_count": 1,
   "metadata": {
    "collapsed": true
   },
   "outputs": [],
   "source": [
    "import nltk"
   ]
  },
  {
   "cell_type": "code",
   "execution_count": 2,
   "metadata": {
    "collapsed": true
   },
   "outputs": [],
   "source": [
    "import string"
   ]
  },
  {
   "cell_type": "code",
   "execution_count": 3,
   "metadata": {
    "collapsed": true
   },
   "outputs": [],
   "source": [
    "punctuation = list(string.punctuation) # collect punctuation"
   ]
  },
  {
   "cell_type": "code",
   "execution_count": 7,
   "metadata": {
    "collapsed": false
   },
   "outputs": [
    {
     "name": "stdout",
     "output_type": "stream",
     "text": [
      "['sleep', 'sticks', 'fucking', 'forwads', 'tennessee', 'a', 'just', 'forwards', 'form', 'smirks', 'action', 'ditto', 'flight', 'girl', 'means', 'away', 'ihavehotnips', 'enuff', 'place', 'sheesh']\n"
     ]
    }
   ],
   "source": [
    "chat_list = []\n",
    "for file in nltk.corpus.nps_chat.fileids():\n",
    "    chat = list(nltk.corpus.nps_chat.words(file)) # read file\n",
    "    chat = [word for word in chat if word not in punctuation] # remove punctuation\n",
    "    chat = list(set([word.lower() for word in chat])) # lowercase and unique\n",
    "    chat_list.extend(chat)\n",
    "chat_list = [word for word in chat_list if not any(c.isdigit() for c in word)] # remove username and number strings\n",
    "print(chat_list[:20])"
   ]
  },
  {
   "cell_type": "code",
   "execution_count": 8,
   "metadata": {
    "collapsed": false
   },
   "outputs": [
    {
     "data": {
      "text/plain": [
       "234377"
      ]
     },
     "execution_count": 8,
     "metadata": {},
     "output_type": "execute_result"
    }
   ],
   "source": [
    "word_list = nltk.corpus.words.words()\n",
    "word_list = list(set([word.lower() for word in word_list])) #lowercse and unique\n",
    "len(word_list)"
   ]
  },
  {
   "cell_type": "markdown",
   "metadata": {},
   "source": [
    "## Unusual words"
   ]
  },
  {
   "cell_type": "code",
   "execution_count": 9,
   "metadata": {
    "collapsed": false
   },
   "outputs": [
    {
     "name": "stdout",
     "output_type": "stream",
     "text": [
      "['fucking', 'forwads', 'tennessee', 'smirks', 'means', 'ihavehotnips', 'enuff', 'sheesh', 'hiya', 'jk', 'answers', 'fuck', 'docs', 'kisses', 'lmaoooo', 'haha', 'yayayayayyy', 'ewwwww', 'london', ':p']\n"
     ]
    }
   ],
   "source": [
    "unusual_list = [word for word in chat_list if word not in word_list]\n",
    "print(unusual_list[:20])"
   ]
  },
  {
   "cell_type": "code",
   "execution_count": 10,
   "metadata": {
    "collapsed": false
   },
   "outputs": [
    {
     "name": "stdout",
     "output_type": "stream",
     "text": [
      "Number of unusual word:  4098\n"
     ]
    }
   ],
   "source": [
    "print('Number of unusual word: ', len(unusual_list))"
   ]
  },
  {
   "cell_type": "markdown",
   "metadata": {},
   "source": [
    "## Number of emoticons: I am really not sure what can be counted as emoticons"
   ]
  },
  {
   "cell_type": "code",
   "execution_count": 11,
   "metadata": {
    "collapsed": true
   },
   "outputs": [],
   "source": [
    "emoticos = [word for word in chat_list if not any(c.isalpha() for c in word)] # remove all letter strings"
   ]
  },
  {
   "cell_type": "code",
   "execution_count": 12,
   "metadata": {
    "collapsed": false
   },
   "outputs": [
    {
     "name": "stdout",
     "output_type": "stream",
     "text": [
      "['--------->', '>:->', '!!!!', '!!', '!.', '??', '....', '......', '..', '. . .', '...', '--------------------', '!!!!!', '???', '!!!', '????', ':(', ':)', '!!!!!!!!!!!!!!!!', '!!!!!!!']\n"
     ]
    }
   ],
   "source": [
    "print(emoticos[:20])"
   ]
  },
  {
   "cell_type": "code",
   "execution_count": 14,
   "metadata": {
    "collapsed": false
   },
   "outputs": [
    {
     "name": "stdout",
     "output_type": "stream",
     "text": [
      "Number of emoticons:  521\n"
     ]
    }
   ],
   "source": [
    "print('Number of emoticons: ',len(emoticos))"
   ]
  }
 ],
 "metadata": {
  "anaconda-cloud": {},
  "kernelspec": {
   "display_name": "Python [conda root]",
   "language": "python",
   "name": "conda-root-py"
  },
  "language_info": {
   "codemirror_mode": {
    "name": "ipython",
    "version": 3
   },
   "file_extension": ".py",
   "mimetype": "text/x-python",
   "name": "python",
   "nbconvert_exporter": "python",
   "pygments_lexer": "ipython3",
   "version": "3.5.2"
  }
 },
 "nbformat": 4,
 "nbformat_minor": 1
}
