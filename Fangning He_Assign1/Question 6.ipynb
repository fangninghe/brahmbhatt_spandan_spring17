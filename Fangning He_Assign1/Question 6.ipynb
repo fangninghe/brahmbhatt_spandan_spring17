{
 "cells": [
  {
   "cell_type": "markdown",
   "metadata": {},
   "source": [
    "# Question 6\n",
    "- Under Inaugural Address package\n",
    "- For every president, find out how many unique words they used in speech\n",
    "- We will just assume that President Bush means one person (technically it is incorrect but we will ignore it)"
   ]
  },
  {
   "cell_type": "code",
   "execution_count": 1,
   "metadata": {
    "collapsed": true
   },
   "outputs": [],
   "source": [
    "import nltk"
   ]
  },
  {
   "cell_type": "code",
   "execution_count": 2,
   "metadata": {
    "collapsed": true
   },
   "outputs": [],
   "source": [
    "import string"
   ]
  },
  {
   "cell_type": "code",
   "execution_count": 3,
   "metadata": {
    "collapsed": true
   },
   "outputs": [],
   "source": [
    "punctuation = list(string.punctuation) # collect punction"
   ]
  },
  {
   "cell_type": "code",
   "execution_count": 4,
   "metadata": {
    "collapsed": false
   },
   "outputs": [
    {
     "name": "stdout",
     "output_type": "stream",
     "text": [
      "['Roosevelt', 'Pierce', 'Taft', 'Cleveland', 'Wilson', 'Harding', 'Adams', 'Reagan', 'Harrison', 'Hoover', 'Polk', 'Obama', 'Nixon', 'Washington', 'Madison', 'Bush', 'Garfield', 'Lincoln', 'VanBuren', 'Coolidge', 'Truman', 'Kennedy', 'Hayes', 'Buchanan', 'McKinley', 'Johnson', 'Jackson', 'Clinton', 'Taylor', 'Grant', 'Carter', 'Jefferson', 'Monroe', 'Eisenhower']\n"
     ]
    }
   ],
   "source": [
    "president_names = []                            # get unique names\n",
    "for name in nltk.corpus.inaugural.fileids():\n",
    "    president_name = name[5:-4]    \n",
    "    president_names.append(president_name)\n",
    "    unique_names = list(set(president_names))\n",
    "print(unique_names)"
   ]
  },
  {
   "cell_type": "code",
   "execution_count": 5,
   "metadata": {
    "collapsed": true
   },
   "outputs": [],
   "source": [
    "def speech_list(name):                            #get a length from a function\n",
    "    speech_list = [];\n",
    "    for file in nltk.corpus.inaugural.fileids():\n",
    "        if name in file:\n",
    "            speech = nltk.corpus.inaugural.words(file)   # read a file\n",
    "            speech = [word.lower() for word in speech]   # lowercase\n",
    "            speech = list(set([word for word in speech if word not in punctuation]))  # remove punctuation\n",
    "            speech_list.extend(speech)\n",
    "    return len(speech_list)"
   ]
  },
  {
   "cell_type": "code",
   "execution_count": 6,
   "metadata": {
    "collapsed": true
   },
   "outputs": [],
   "source": [
    "speech_dict = {}\n",
    "for president in unique_names:\n",
    "    speech_len = speech_list(president)\n",
    "    speech_dict.update({president:speech_len}) # make a dictionary for president and unique words"
   ]
  },
  {
   "cell_type": "code",
   "execution_count": 7,
   "metadata": {
    "collapsed": false
   },
   "outputs": [
    {
     "name": "stdout",
     "output_type": "stream",
     "text": [
      "Unique words for each president: \n",
      "1  President:  Hayes \t Unique words:  803\n",
      "2  President:  Roosevelt \t Unique words:  2540\n",
      "3  President:  Garfield \t Unique words:  973\n",
      "4  President:  Pierce \t Unique words:  1117\n",
      "5  President:  Taylor \t Unique words:  483\n",
      "6  President:  VanBuren \t Unique words:  1254\n",
      "7  President:  Truman \t Unique words:  741\n",
      "8  President:  Taft \t Unique words:  1378\n",
      "9  President:  Carter \t Unique words:  495\n",
      "10  President:  Cleveland \t Unique words:  1438\n",
      "11  President:  Wilson \t Unique words:  1152\n",
      "12  President:  Buchanan \t Unique words:  893\n",
      "13  President:  Bush \t Unique words:  2068\n",
      "14  President:  Harding \t Unique words:  1119\n",
      "15  President:  Coolidge \t Unique words:  1160\n",
      "16  President:  McKinley \t Unique words:  2012\n",
      "17  President:  Adams \t Unique words:  1760\n",
      "18  President:  Reagan \t Unique words:  1714\n",
      "19  President:  Kennedy \t Unique words:  538\n",
      "20  President:  Harrison \t Unique words:  3107\n",
      "21  President:  Johnson \t Unique words:  530\n",
      "22  President:  Hoover \t Unique words:  993\n",
      "23  President:  Jackson \t Unique words:  978\n",
      "24  President:  Lincoln \t Unique words:  1349\n",
      "25  President:  Clinton \t Unique words:  1316\n",
      "26  President:  Polk \t Unique words:  1260\n",
      "27  President:  Grant \t Unique words:  990\n",
      "28  President:  Obama \t Unique words:  892\n",
      "29  President:  Nixon \t Unique words:  1216\n",
      "30  President:  Washington \t Unique words:  686\n",
      "31  President:  Jefferson \t Unique words:  1458\n",
      "32  President:  Monroe \t Unique words:  2186\n",
      "33  President:  Madison \t Unique words:  1040\n",
      "34  President:  Eisenhower \t Unique words:  1441\n"
     ]
    }
   ],
   "source": [
    "print('Unique words for each president: ')\n",
    "a = 1\n",
    "for index in speech_dict:\n",
    "    print(a, \" President: \", index, \"\\t\", \"Unique words: \", speech_dict[index])\n",
    "    a = a + 1"
   ]
  }
 ],
 "metadata": {
  "anaconda-cloud": {},
  "kernelspec": {
   "display_name": "Python [conda root]",
   "language": "python",
   "name": "conda-root-py"
  },
  "language_info": {
   "codemirror_mode": {
    "name": "ipython",
    "version": 3
   },
   "file_extension": ".py",
   "mimetype": "text/x-python",
   "name": "python",
   "nbconvert_exporter": "python",
   "pygments_lexer": "ipython3",
   "version": "3.5.2"
  }
 },
 "nbformat": 4,
 "nbformat_minor": 1
}
