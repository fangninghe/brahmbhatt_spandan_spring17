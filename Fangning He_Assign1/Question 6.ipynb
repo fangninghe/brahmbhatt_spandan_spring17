{
 "cells": [
  {
   "cell_type": "markdown",
   "metadata": {},
   "source": [
    "# Question 6\n",
    "- Under Inaugural Address package\n",
    "- For every president, find out how many unique words they used in speech\n",
    "- We will just assume that President Bush means one person (technically it is incorrect but we will ignore it)"
   ]
  },
  {
   "cell_type": "code",
   "execution_count": 1,
   "metadata": {
    "collapsed": true
   },
   "outputs": [],
   "source": [
    "import nltk"
   ]
  },
  {
   "cell_type": "code",
   "execution_count": 2,
   "metadata": {
    "collapsed": true
   },
   "outputs": [],
   "source": [
    "import string"
   ]
  },
  {
   "cell_type": "code",
   "execution_count": 3,
   "metadata": {
    "collapsed": true
   },
   "outputs": [],
   "source": [
    "punctuation = list(string.punctuation) # collect punction"
   ]
  },
  {
   "cell_type": "code",
   "execution_count": 4,
   "metadata": {
    "collapsed": false
   },
   "outputs": [
    {
     "name": "stdout",
     "output_type": "stream",
     "text": [
      "['Carter', 'Coolidge', 'Polk', 'Harding', 'Washington', 'Monroe', 'Nixon', 'VanBuren', 'Kennedy', 'Grant', 'Reagan', 'Jefferson', 'Lincoln', 'Buchanan', 'Adams', 'Cleveland', 'Harrison', 'Pierce', 'Hayes', 'Clinton', 'Taylor', 'Truman', 'Jackson', 'Bush', 'Roosevelt', 'McKinley', 'Eisenhower', 'Johnson', 'Hoover', 'Taft', 'Obama', 'Wilson', 'Garfield', 'Madison']\n"
     ]
    }
   ],
   "source": [
    "president_names = []                            # get unique names\n",
    "for name in nltk.corpus.inaugural.fileids():\n",
    "    president_name = name[5:-4]    \n",
    "    president_names.append(president_name)\n",
    "    unique_names = list(set(president_names))\n",
    "print(unique_names)"
   ]
  },
  {
   "cell_type": "code",
   "execution_count": 5,
   "metadata": {
    "collapsed": true
   },
   "outputs": [],
   "source": [
    "def speech_list(name):                            #get a length from a function\n",
    "    speech_list = [];\n",
    "    for file in nltk.corpus.inaugural.fileids():\n",
    "        if name in file:\n",
    "            speech = nltk.corpus.inaugural.words(file)   # read a file\n",
    "            speech = [word.lower() for word in speech]   # lowercase\n",
    "            speech = list(set([word for word in speech if word not in punctuation]))  \n",
    "            # remove punctuation and unique single speech\n",
    "            speech_list.extend(speech)\n",
    "            speech_list = list(set(speech_list))\n",
    "    return len(speech_list)"
   ]
  },
  {
   "cell_type": "code",
   "execution_count": 6,
   "metadata": {
    "collapsed": true
   },
   "outputs": [],
   "source": [
    "speech_dict = {}\n",
    "for president in unique_names:\n",
    "    speech_len = speech_list(president)\n",
    "    speech_dict.update({president:speech_len}) # make a dictionary for president and unique words"
   ]
  },
  {
   "cell_type": "code",
   "execution_count": 10,
   "metadata": {
    "collapsed": true
   },
   "outputs": [],
   "source": [
    "import collections\n",
    "speech_dict = collections.OrderedDict(sorted(speech_dict.items())) # sorted dict, easy to see"
   ]
  },
  {
   "cell_type": "code",
   "execution_count": 11,
   "metadata": {
    "collapsed": false
   },
   "outputs": [
    {
     "name": "stdout",
     "output_type": "stream",
     "text": [
      "Unique words for each president: \n",
      "1  President:  Adams \t Unique words:  1441\n",
      "2  President:  Buchanan \t Unique words:  893\n",
      "3  President:  Bush \t Unique words:  1481\n",
      "4  President:  Carter \t Unique words:  495\n",
      "5  President:  Cleveland \t Unique words:  1168\n",
      "6  President:  Clinton \t Unique words:  1058\n",
      "7  President:  Coolidge \t Unique words:  1160\n",
      "8  President:  Eisenhower \t Unique words:  1184\n",
      "9  President:  Garfield \t Unique words:  973\n",
      "10  President:  Grant \t Unique words:  815\n",
      "11  President:  Harding \t Unique words:  1119\n",
      "12  President:  Harrison \t Unique words:  2545\n",
      "13  President:  Hayes \t Unique words:  803\n",
      "14  President:  Hoover \t Unique words:  993\n",
      "15  President:  Jackson \t Unique words:  810\n",
      "16  President:  Jefferson \t Unique words:  1208\n",
      "17  President:  Johnson \t Unique words:  530\n",
      "18  President:  Kennedy \t Unique words:  538\n",
      "19  President:  Lincoln \t Unique words:  1180\n",
      "20  President:  Madison \t Unique words:  865\n",
      "21  President:  McKinley \t Unique words:  1606\n",
      "22  President:  Monroe \t Unique words:  1688\n",
      "23  President:  Nixon \t Unique words:  982\n",
      "24  President:  Obama \t Unique words:  892\n",
      "25  President:  Pierce \t Unique words:  1117\n",
      "26  President:  Polk \t Unique words:  1260\n",
      "27  President:  Reagan \t Unique words:  1369\n",
      "28  President:  Roosevelt \t Unique words:  1607\n",
      "29  President:  Taft \t Unique words:  1378\n",
      "30  President:  Taylor \t Unique words:  483\n",
      "31  President:  Truman \t Unique words:  741\n",
      "32  President:  VanBuren \t Unique words:  1254\n",
      "33  President:  Washington \t Unique words:  628\n",
      "34  President:  Wilson \t Unique words:  950\n"
     ]
    }
   ],
   "source": [
    "print('Unique words for each president: ')\n",
    "a = 1\n",
    "for index in speech_dict:\n",
    "    print(a, \" President: \", index, \"\\t\", \"Unique words: \", speech_dict[index])\n",
    "    a = a + 1"
   ]
  }
 ],
 "metadata": {
  "anaconda-cloud": {},
  "kernelspec": {
   "display_name": "Python [conda root]",
   "language": "python",
   "name": "conda-root-py"
  },
  "language_info": {
   "codemirror_mode": {
    "name": "ipython",
    "version": 3
   },
   "file_extension": ".py",
   "mimetype": "text/x-python",
   "name": "python",
   "nbconvert_exporter": "python",
   "pygments_lexer": "ipython3",
   "version": "3.5.2"
  }
 },
 "nbformat": 4,
 "nbformat_minor": 1
}
