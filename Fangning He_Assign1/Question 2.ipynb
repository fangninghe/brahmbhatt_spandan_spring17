{
 "cells": [
  {
   "cell_type": "markdown",
   "metadata": {},
   "source": [
    "# Question2\n",
    "- Under package Gutenberg get content from file 'melville-moby_dick.txt.' (HINT: Words? Raw?)\n",
    "- Find out frequency of 26 characters. (Turn uppercase into lowercase and count as one character)\n",
    "- List all 26 characters in order base on their frequency. (From most frequent to least frequent)\n",
    "- Try NOT to use FreqDist module."
   ]
  },
  {
   "cell_type": "code",
   "execution_count": 1,
   "metadata": {
    "collapsed": true
   },
   "outputs": [],
   "source": [
    "import nltk"
   ]
  },
  {
   "cell_type": "code",
   "execution_count": 2,
   "metadata": {
    "collapsed": true
   },
   "outputs": [],
   "source": [
    "melville = nltk.corpus.gutenberg.raw('melville-moby_dick.txt') #read file"
   ]
  },
  {
   "cell_type": "markdown",
   "metadata": {},
   "source": [
    "## Solution 1"
   ]
  },
  {
   "cell_type": "code",
   "execution_count": 3,
   "metadata": {
    "collapsed": true
   },
   "outputs": [],
   "source": [
    "lower_melville = [x.lower() for x in list(melville)] # lowercase all the charactor"
   ]
  },
  {
   "cell_type": "code",
   "execution_count": 4,
   "metadata": {
    "collapsed": true
   },
   "outputs": [],
   "source": [
    "alpha = ['a','b','c','d','e','f','g','h','i','j','k','l','m','n','o',\n",
    "         'p','q','r','s','t','u','v','w','x','y','z'] #contrain a scale"
   ]
  },
  {
   "cell_type": "code",
   "execution_count": 5,
   "metadata": {
    "collapsed": true
   },
   "outputs": [],
   "source": [
    "word_freq = {}\n",
    "for word in lower_melville:\n",
    "    word_freq[word] = word_freq.get(word, 0) + 1 # count word frequency"
   ]
  },
  {
   "cell_type": "code",
   "execution_count": 6,
   "metadata": {
    "collapsed": true
   },
   "outputs": [],
   "source": [
    "alpha_d = { key:value for key, value in word_freq.items() if key in alpha } # reserve 26 charactors"
   ]
  },
  {
   "cell_type": "code",
   "execution_count": 7,
   "metadata": {
    "collapsed": false
   },
   "outputs": [
    {
     "name": "stdout",
     "output_type": "stream",
     "text": [
      "26 characters frequecy:\n",
      "Character:  e \t Freqency:  117092\n",
      "Character:  t \t Freqency:  87996\n",
      "Character:  a \t Freqency:  77916\n",
      "Character:  o \t Freqency:  69326\n",
      "Character:  n \t Freqency:  65617\n",
      "Character:  i \t Freqency:  65434\n",
      "Character:  s \t Freqency:  64231\n",
      "Character:  h \t Freqency:  62896\n",
      "Character:  r \t Freqency:  52134\n",
      "Character:  l \t Freqency:  42793\n",
      "Character:  d \t Freqency:  38219\n",
      "Character:  u \t Freqency:  26697\n",
      "Character:  m \t Freqency:  23277\n",
      "Character:  c \t Freqency:  22507\n",
      "Character:  w \t Freqency:  22222\n",
      "Character:  f \t Freqency:  20833\n",
      "Character:  g \t Freqency:  20820\n",
      "Character:  p \t Freqency:  17255\n",
      "Character:  b \t Freqency:  16877\n",
      "Character:  y \t Freqency:  16872\n",
      "Character:  v \t Freqency:  8598\n",
      "Character:  k \t Freqency:  8059\n",
      "Character:  q \t Freqency:  1556\n",
      "Character:  j \t Freqency:  1082\n",
      "Character:  x \t Freqency:  1030\n",
      "Character:  z \t Freqency:  632\n"
     ]
    }
   ],
   "source": [
    "sorted_alpha = sorted(alpha_d.items(), key=lambda item: item[1], reverse = True)\n",
    "print(\"26 characters frequecy:\")\n",
    "for word,fre in sorted_alpha:\n",
    "    print(\"Character: \", word, \"\\t\", \"Freqency: \", fre)"
   ]
  },
  {
   "cell_type": "markdown",
   "metadata": {},
   "source": [
    "## Solution 2"
   ]
  },
  {
   "cell_type": "code",
   "execution_count": 8,
   "metadata": {
    "collapsed": false
   },
   "outputs": [
    {
     "name": "stdout",
     "output_type": "stream",
     "text": [
      "26 characters frequecy:\n",
      "Character:  e \t Freqency:  117092\n",
      "Character:  t \t Freqency:  87996\n",
      "Character:  a \t Freqency:  77916\n",
      "Character:  o \t Freqency:  69326\n",
      "Character:  n \t Freqency:  65617\n",
      "Character:  i \t Freqency:  65434\n",
      "Character:  s \t Freqency:  64231\n",
      "Character:  h \t Freqency:  62896\n",
      "Character:  r \t Freqency:  52134\n",
      "Character:  l \t Freqency:  42793\n",
      "Character:  d \t Freqency:  38219\n",
      "Character:  u \t Freqency:  26697\n",
      "Character:  m \t Freqency:  23277\n",
      "Character:  c \t Freqency:  22507\n",
      "Character:  w \t Freqency:  22222\n",
      "Character:  f \t Freqency:  20833\n",
      "Character:  g \t Freqency:  20820\n",
      "Character:  p \t Freqency:  17255\n",
      "Character:  b \t Freqency:  16877\n",
      "Character:  y \t Freqency:  16872\n",
      "Character:  v \t Freqency:  8598\n",
      "Character:  k \t Freqency:  8059\n",
      "Character:  q \t Freqency:  1556\n",
      "Character:  j \t Freqency:  1082\n",
      "Character:  x \t Freqency:  1030\n",
      "Character:  z \t Freqency:  632\n"
     ]
    }
   ],
   "source": [
    "from collections import Counter\n",
    "string_melville = str(melville) #convert into string\n",
    "lower_melville = string_melville.lower() #convert string into lowercase\n",
    "counts = Counter(lower_melville) \n",
    "alpha_d = { key:value for key, value in counts.items() if key in alpha } #remove anything other than 26 character\n",
    "sorted_alpha = sorted(alpha_d.items(), key=lambda item: item[1], reverse = True) #soted dictionary\n",
    "print(\"26 characters frequecy:\")\n",
    "for word,fre in sorted_alpha:\n",
    "    print(\"Character: \", word, \"\\t\", \"Freqency: \", fre)"
   ]
  }
 ],
 "metadata": {
  "anaconda-cloud": {},
  "kernelspec": {
   "display_name": "Python [conda root]",
   "language": "python",
   "name": "conda-root-py"
  },
  "language_info": {
   "codemirror_mode": {
    "name": "ipython",
    "version": 3
   },
   "file_extension": ".py",
   "mimetype": "text/x-python",
   "name": "python",
   "nbconvert_exporter": "python",
   "pygments_lexer": "ipython3",
   "version": "3.5.2"
  }
 },
 "nbformat": 4,
 "nbformat_minor": 1
}
