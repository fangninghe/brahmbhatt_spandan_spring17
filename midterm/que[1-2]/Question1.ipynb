{
 "cells": [
  {
   "cell_type": "markdown",
   "metadata": {},
   "source": [
    "# Question 1"
   ]
  },
  {
   "cell_type": "markdown",
   "metadata": {},
   "source": [
    "## 1. Find who has most mails"
   ]
  },
  {
   "cell_type": "code",
   "execution_count": 1,
   "metadata": {
    "collapsed": true
   },
   "outputs": [],
   "source": [
    "import glob\n",
    "import csv\n",
    "import nltk\n",
    "import os"
   ]
  },
  {
   "cell_type": "code",
   "execution_count": 2,
   "metadata": {
    "collapsed": true
   },
   "outputs": [],
   "source": [
    "path = '../midterm/data/enron/maildir/'"
   ]
  },
  {
   "cell_type": "code",
   "execution_count": 3,
   "metadata": {
    "collapsed": true
   },
   "outputs": [],
   "source": [
    "all_mail_dict={}                                  #read all the mails of each user\n",
    "for name in os.listdir(path):\n",
    "    total = sum(len(files) for root, dirs, files in os.walk(path+name))   \n",
    "    all_mail_dict.update({name:total})"
   ]
  },
  {
   "cell_type": "code",
   "execution_count": 4,
   "metadata": {
    "collapsed": true
   },
   "outputs": [],
   "source": [
    "sorted_all_mail_dict = sorted(all_mail_dict.items(), key=lambda item: item[1], reverse = True) #sort list"
   ]
  },
  {
   "cell_type": "code",
   "execution_count": 5,
   "metadata": {
    "collapsed": false,
    "scrolled": false
   },
   "outputs": [
    {
     "data": {
      "text/plain": [
       "[('kaminski-v', 28465),\n",
       " ('dasovich-j', 28234),\n",
       " ('kean-s', 25351),\n",
       " ('mann-k', 23381),\n",
       " ('jones-t', 19950),\n",
       " ('shackleton-s', 18687),\n",
       " ('taylor-m', 13875),\n",
       " ('farmer-d', 13032),\n",
       " ('germany-c', 12436),\n",
       " ('beck-s', 11830)]"
      ]
     },
     "execution_count": 5,
     "metadata": {},
     "output_type": "execute_result"
    }
   ],
   "source": [
    "sorted_all_mail_dict[:10]"
   ]
  },
  {
   "cell_type": "code",
   "execution_count": 6,
   "metadata": {
    "collapsed": true
   },
   "outputs": [],
   "source": [
    "sorted_mail_list = []\n",
    "a = 1\n",
    "for item in sorted_all_mail_dict:\n",
    "    item = list(item)\n",
    "    item.insert(0,a)\n",
    "    a = a +1\n",
    "    sorted_mail_list.append(item)   "
   ]
  },
  {
   "cell_type": "code",
   "execution_count": 7,
   "metadata": {
    "collapsed": true
   },
   "outputs": [],
   "source": [
    "with open('mail_list.csv','w',newline='',encoding=\"utf-8\") as f:    #please review mail_list.csv to check mail amount detail\n",
    "        w = csv.writer(f)\n",
    "        w.writerow(['Rank','Email_name','Amount'])\n",
    "        w.writerows(sorted_mail_list)"
   ]
  },
  {
   "cell_type": "markdown",
   "metadata": {},
   "source": [
    "## 2. Dig into top 5 mail-holders"
   ]
  },
  {
   "cell_type": "code",
   "execution_count": 8,
   "metadata": {
    "collapsed": true
   },
   "outputs": [],
   "source": [
    "from collections import Counter"
   ]
  },
  {
   "cell_type": "code",
   "execution_count": 9,
   "metadata": {
    "collapsed": true
   },
   "outputs": [],
   "source": [
    "def activity_year(path):    #get email amount of each person\n",
    "    mail_list = []\n",
    "    for dirpath, dirs, files in os.walk(path):\n",
    "        for filename in files:\n",
    "            mail_list.append(list(open(os.path.join(dirpath, filename))))\n",
    "    time_list = []\n",
    "    for item in mail_list:\n",
    "        time_list.append(item[1])\n",
    "    new_time_list = []\n",
    "    for item in time_list:\n",
    "        item = item.split(' ')\n",
    "        new_time_list.append(item)\n",
    "    year_list = []\n",
    "    for item in new_time_list:\n",
    "        year_list.extend([item[4]])\n",
    "    year_dict = dict(Counter(year_list))\n",
    "    return year_dict"
   ]
  },
  {
   "cell_type": "code",
   "execution_count": 10,
   "metadata": {
    "collapsed": false
   },
   "outputs": [
    {
     "data": {
      "text/plain": [
       "{'1979': 25, '1999': 417, '2000': 16249, '2001': 10842, '2002': 931, '2005': 1}"
      ]
     },
     "execution_count": 10,
     "metadata": {},
     "output_type": "execute_result"
    }
   ],
   "source": [
    "kaminski_year_dict = activity_year(path+'kaminski-v')  #get kaminski`s\n",
    "kaminski_year_dict"
   ]
  },
  {
   "cell_type": "code",
   "execution_count": 11,
   "metadata": {
    "collapsed": false
   },
   "outputs": [],
   "source": [
    "dasovich_year_dict = activity_year(path+'dasovich-j')"
   ]
  },
  {
   "cell_type": "code",
   "execution_count": 12,
   "metadata": {
    "collapsed": false
   },
   "outputs": [
    {
     "data": {
      "text/plain": [
       "{'1979': 6, '1998': 2, '1999': 568, '2000': 9295, '2001': 18345, '2002': 15}"
      ]
     },
     "execution_count": 12,
     "metadata": {},
     "output_type": "execute_result"
    }
   ],
   "source": [
    "del dasovich_year_dict['0001']                        #get dasovich`s\n",
    "dasovich_year_dict"
   ]
  },
  {
   "cell_type": "code",
   "execution_count": 13,
   "metadata": {
    "collapsed": false
   },
   "outputs": [],
   "source": [
    "kean_year_dict = activity_year(path+'kean-s')"
   ]
  },
  {
   "cell_type": "code",
   "execution_count": 14,
   "metadata": {
    "collapsed": false
   },
   "outputs": [
    {
     "data": {
      "text/plain": [
       "{'1979': 102, '1997': 436, '1999': 636, '2000': 11446, '2001': 12708}"
      ]
     },
     "execution_count": 14,
     "metadata": {},
     "output_type": "execute_result"
    }
   ],
   "source": [
    "del kean_year_dict['0001']                        #get kean`s\n",
    "kean_year_dict"
   ]
  },
  {
   "cell_type": "code",
   "execution_count": 15,
   "metadata": {
    "collapsed": false
   },
   "outputs": [],
   "source": [
    "mann_year_dict = activity_year(path+'mann-k')"
   ]
  },
  {
   "cell_type": "code",
   "execution_count": 16,
   "metadata": {
    "collapsed": false
   },
   "outputs": [
    {
     "data": {
      "text/plain": [
       "{'1979': 38, '2000': 9761, '2001': 13574, '2002': 4}"
      ]
     },
     "execution_count": 16,
     "metadata": {},
     "output_type": "execute_result"
    }
   ],
   "source": [
    "del mann_year_dict['0001']                     #get mann`s\n",
    "mann_year_dict"
   ]
  },
  {
   "cell_type": "code",
   "execution_count": 17,
   "metadata": {
    "collapsed": false
   },
   "outputs": [
    {
     "data": {
      "text/plain": [
       "{'1979': 7, '1999': 1252, '2000': 10721, '2001': 7970}"
      ]
     },
     "execution_count": 17,
     "metadata": {},
     "output_type": "execute_result"
    }
   ],
   "source": [
    "jones_year_dict = activity_year(path+'jones-t')     #get jones`\n",
    "jones_year_dict "
   ]
  },
  {
   "cell_type": "code",
   "execution_count": 18,
   "metadata": {
    "collapsed": false
   },
   "outputs": [],
   "source": [
    "import matplotlib.pylab as plt"
   ]
  },
  {
   "cell_type": "code",
   "execution_count": 19,
   "metadata": {
    "collapsed": false,
    "scrolled": true
   },
   "outputs": [
    {
     "data": {
      "image/png": "[encoded data removed]",
      "text/plain": [
       "<matplotlib.figure.Figure at 0x288de3369e8>"
      ]
     },
     "metadata": {},
     "output_type": "display_data"
    }
   ],
   "source": [
    "fig = plt.figure(figsize=(8, 5), dpi=100)\n",
    "\n",
    "lists_kaminski = sorted(kaminski_year_dict.items()) # sorted by key, return a list of tuples\n",
    "x1, y1 = zip(*lists_kaminski)# unpack a list of pairs into two tuples\n",
    "\n",
    "lists_dasovich = sorted(dasovich_year_dict.items()) \n",
    "x2, y2 = zip(*lists_dasovich)\n",
    "\n",
    "lists_kean = sorted(kean_year_dict.items()) \n",
    "x3, y3 = zip(*lists_kean)\n",
    "\n",
    "lists_mann = sorted(mann_year_dict.items()) \n",
    "x4, y4 = zip(*lists_mann)\n",
    "\n",
    "lists_jones = sorted(jones_year_dict.items()) \n",
    "x5, y5 = zip(*lists_jones)\n",
    "\n",
    "plt.xlabel('Year')\n",
    "plt.ylabel('Email Amount')\n",
    "plt.title('First Five Enron Email Volumn')\n",
    "plt.grid(True)\n",
    "\n",
    "plt.plot(x1, y1)\n",
    "plt.plot(x2, y2)\n",
    "plt.plot(x3, y3)\n",
    "plt.plot(x4, y4)\n",
    "plt.plot(x5, y5)\n",
    "\n",
    "plt.legend(['kaminski', 'dasovich','kean','mann','jones'], loc='upper left')\n",
    "plt.show()"
   ]
  }
 ],
 "metadata": {
  "kernelspec": {
   "display_name": "Python 3",
   "language": "python",
   "name": "python3"
  },
  "language_info": {
   "codemirror_mode": {
    "name": "ipython",
    "version": 3
   },
   "file_extension": ".py",
   "mimetype": "text/x-python",
   "name": "python",
   "nbconvert_exporter": "python",
   "pygments_lexer": "ipython3",
   "version": "3.6.0"
  }
 },
 "nbformat": 4,
 "nbformat_minor": 2
}
