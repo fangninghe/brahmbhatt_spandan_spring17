{
 "cells": [
  {
   "cell_type": "markdown",
   "metadata": {},
   "source": [
    "# Question 1\n",
    "1. Learn and understand Zipf’s Law.\n",
    "2. Pick any file (or files) in NLTK package.\n",
    "3. Prove if Zipf’s Law works in Natural Language or not.\n",
    "4. REQUIREMNTS: (Must Do)\n",
    "   * Use ’glob’ to open and read file. If read multiple files use LOOP to achieve.\n",
    "   * Create at least one function and one lambda function.\n",
    "   * Save your data as an CSV file contains (Word, Rank, Frequency) with TITLE and Sort it by RANK. \n",
    "   * Open your CSV file, * generate a log-log figure according to the data you saved.\n",
    "   * Write a conclusion at the end of your code base on your figure."
   ]
  },
  {
   "cell_type": "code",
   "execution_count": 4,
   "metadata": {
    "collapsed": true
   },
   "outputs": [],
   "source": [
    "import glob\n",
    "import string"
   ]
  },
  {
   "cell_type": "code",
   "execution_count": 2,
   "metadata": {
    "collapsed": true
   },
   "outputs": [],
   "source": [
    "def read_file(filename):\n",
    "    f = open(filename,encoding = \"ISO-8859-1\")\n",
    "    lines = f.read()              #convert file into a single string\n",
    "    exclude = set(string.punctuation) #remove punctuation\n",
    "    lines = ''.join(ch for ch in lines if ch not in exclude)\n",
    "    word_list = lines.split()     #convert string to word list\n",
    "    word_list =[word.lower() for word in word_list]  #lowercase the words\n",
    "    return word_list"
   ]
  },
  {
   "cell_type": "code",
   "execution_count": 5,
   "metadata": {
    "collapsed": false
   },
   "outputs": [],
   "source": [
    "word_list = [];\n",
    "for filename in glob.glob('/Users/fangninghe/nltk_data/corpora/inaugural/*txt'):\n",
    "    word_list.extend(read_file(filename))             #read all files and put into one list"
   ]
  },
  {
   "cell_type": "code",
   "execution_count": 6,
   "metadata": {
    "collapsed": false
   },
   "outputs": [
    {
     "name": "stdout",
     "output_type": "stream",
     "text": [
      "['fellowcitizens', 'of', 'the', 'senate', 'and', 'of', 'the', 'house', 'of', 'representatives']\n"
     ]
    }
   ],
   "source": [
    "print(word_list[:10])"
   ]
  },
  {
   "cell_type": "code",
   "execution_count": 7,
   "metadata": {
    "collapsed": true
   },
   "outputs": [],
   "source": [
    "import collections\n",
    "word_dict = dict(collections.Counter(word_list)) #convert into frequency dictionary"
   ]
  },
  {
   "cell_type": "code",
   "execution_count": 8,
   "metadata": {
    "collapsed": true
   },
   "outputs": [],
   "source": [
    "sorted_dict = sorted(word_dict.items(), key=lambda item: item[1], reverse = True) #use lambda to grap the key in dict"
   ]
  },
  {
   "cell_type": "code",
   "execution_count": 10,
   "metadata": {
    "collapsed": true
   },
   "outputs": [],
   "source": [
    "sorted_list = []\n",
    "a = 1\n",
    "for item in sorted_dict:\n",
    "    item = list(item)\n",
    "    item.insert(0,a)\n",
    "    a = a +1\n",
    "    sorted_list.append(item)          #add rank column to sorted list"
   ]
  },
  {
   "cell_type": "code",
   "execution_count": 13,
   "metadata": {
    "collapsed": true
   },
   "outputs": [],
   "source": [
    "import csv\n",
    "\n",
    "with open(\"output.csv\", \"w\",newline='') as f:\n",
    "    writer = csv.writer(f)\n",
    "    writer.writerow(['Rank','Word','Frequency']) # add headers\n",
    "    writer.writerows(sorted_list)  #generate csv file"
   ]
  },
  {
   "cell_type": "markdown",
   "metadata": {},
   "source": [
    "## log-log plot in csv file:\n",
    "!['log-log in csv'](zipf`s_law.png)"
   ]
  },
  {
   "cell_type": "code",
   "execution_count": 15,
   "metadata": {
    "collapsed": true
   },
   "outputs": [],
   "source": [
    "import matplotlib.pyplot as plt\n",
    "import numpy as np"
   ]
  },
  {
   "cell_type": "code",
   "execution_count": 16,
   "metadata": {
    "collapsed": true
   },
   "outputs": [],
   "source": [
    "del sorted_list[0] #delete titles"
   ]
  },
  {
   "cell_type": "code",
   "execution_count": 17,
   "metadata": {
    "collapsed": true
   },
   "outputs": [],
   "source": [
    "x = []\n",
    "y = []\n",
    "for item in sorted_list:\n",
    "    x.append(item[0])\n",
    "    y.append(item[2])  #grap rank and frequency"
   ]
  },
  {
   "cell_type": "code",
   "execution_count": 18,
   "metadata": {
    "collapsed": false
   },
   "outputs": [
    {
     "data": {
      "image/png": "[encoded data removed]",
      "text/plain": [
       "<matplotlib.figure.Figure at 0x10b77d048>"
      ]
     },
     "metadata": {},
     "output_type": "display_data"
    }
   ],
   "source": [
    "plt.loglog(x, y)              #generate log-log plot\n",
    "plt.xlabel(\"Word Rank\")\n",
    "plt.ylabel(\"Frequency\")\n",
    "plt.title(\"Test of Zipf`s Law\")\n",
    "\n",
    "plt.show()"
   ]
  },
  {
   "cell_type": "markdown",
   "metadata": {},
   "source": [
    "# Conclusion\n",
    "**According to the log-log plot, the word frequencies in presidents speehes are comlplied with Zipf's Law which is that the frequency of any word is inversely proportional to its rank in the frequency table.**"
   ]
  }
 ],
 "metadata": {
  "anaconda-cloud": {},
  "kernelspec": {
   "display_name": "Python 3",
   "language": "python",
   "name": "python3"
  },
  "language_info": {
   "codemirror_mode": {
    "name": "ipython",
    "version": 3
   },
   "file_extension": ".py",
   "mimetype": "text/x-python",
   "name": "python",
   "nbconvert_exporter": "python",
   "pygments_lexer": "ipython3",
   "version": "3.5.2"
  }
 },
 "nbformat": 4,
 "nbformat_minor": 1
}
