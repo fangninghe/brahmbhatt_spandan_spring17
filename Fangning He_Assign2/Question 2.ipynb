{
 "cells": [
  {
   "cell_type": "markdown",
   "metadata": {},
   "source": [
    "# Question 2_Part 1 Read all the json files in the folder called Data.\n",
    "- Create a folder (Name: Data Processed)\n",
    "- In this folder you should have a hierarchy of folder structures"
   ]
  },
  {
   "cell_type": "code",
   "execution_count": 2,
   "metadata": {
    "collapsed": true
   },
   "outputs": [],
   "source": [
    "import glob\n",
    "import string\n",
    "import os\n",
    "from shutil import copyfile"
   ]
  },
  {
   "cell_type": "code",
   "execution_count": 3,
   "metadata": {
    "collapsed": true
   },
   "outputs": [],
   "source": [
    "names = glob.glob('/Users/fangninghe/Desktop/INFO7374/DataAnalysis4Python_Spring17/Assignment 2/Data/*')"
   ]
  },
  {
   "cell_type": "code",
   "execution_count": 4,
   "metadata": {
    "collapsed": true
   },
   "outputs": [],
   "source": [
    "punctation = set(string.punctuation)"
   ]
  },
  {
   "cell_type": "code",
   "execution_count": 7,
   "metadata": {
    "collapsed": false
   },
   "outputs": [],
   "source": [
    "for name in names:\n",
    "    src = name\n",
    "    file = open(name)    \n",
    "    name = name[name.rfind('/')+1:]  #grab all the proper file names\n",
    "    lines = file.read()\n",
    "    lines = ''.join(ch for ch in lines if ch not in punctation) #remove all the punctuation\n",
    "    word_list = lines.split() \n",
    "    newpath = '/Users/fangninghe/Desktop/Data Processed/' + word_list[word_list.index('country')+1] + \\\n",
    "    '/' + word_list[word_list.index('state')+1]+ '/' + word_list[word_list.index('city')+1] + \\\n",
    "    '/' + word_list[word_list.index('term')+1] + '/' + name \n",
    "    # directory: Data Processed/Country/state/city/term/filename.json\n",
    "    os.makedirs(os.path.dirname(newpath), exist_ok=True)\n",
    "    dst = newpath\n",
    "    copyfile(src, dst) # copy files in to aim directory"
   ]
  }
 ],
 "metadata": {
  "anaconda-cloud": {},
  "kernelspec": {
   "display_name": "Python 3",
   "language": "python",
   "name": "python3"
  },
  "language_info": {
   "codemirror_mode": {
    "name": "ipython",
    "version": 3
   },
   "file_extension": ".py",
   "mimetype": "text/x-python",
   "name": "python",
   "nbconvert_exporter": "python",
   "pygments_lexer": "ipython3",
   "version": "3.5.2"
  }
 },
 "nbformat": 4,
 "nbformat_minor": 1
}
