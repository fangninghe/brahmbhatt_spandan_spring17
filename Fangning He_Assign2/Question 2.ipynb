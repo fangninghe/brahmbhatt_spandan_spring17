{
 "cells": [
  {
   "cell_type": "markdown",
   "metadata": {},
   "source": [
    "# Question 2_Part 1 Read all the json files in the folder called Data.\n",
    "- Create a folder (Name: Data Processed)\n",
    "- In this folder you should have a hierarchy of folder structures"
   ]
  },
  {
   "cell_type": "code",
   "execution_count": 1,
   "metadata": {
    "collapsed": true
   },
   "outputs": [],
   "source": [
    "import glob\n",
    "import string\n",
    "import os\n",
    "from shutil import copyfile"
   ]
  },
  {
   "cell_type": "code",
   "execution_count": 2,
   "metadata": {
    "collapsed": true
   },
   "outputs": [],
   "source": [
    "names = glob.glob('/Users/fangninghe/Desktop/INFO7374/DataAnalysis4Python_Spring17/Assignment 2/Data/*')"
   ]
  },
  {
   "cell_type": "code",
   "execution_count": 3,
   "metadata": {
    "collapsed": true
   },
   "outputs": [],
   "source": [
    "punctation = set(string.punctuation)"
   ]
  },
  {
   "cell_type": "code",
   "execution_count": 7,
   "metadata": {
    "collapsed": false
   },
   "outputs": [],
   "source": [
    "for name in names:\n",
    "    src = name\n",
    "    file = open(name)    \n",
    "    name = name[name.rfind('/')+1:]  #grab all the proper file names\n",
    "    lines = file.read()\n",
    "    lines = ''.join(ch for ch in lines if ch not in punctation) #remove all the punctuation\n",
    "    word_list = lines.split() \n",
    "    newpath = '/Users/fangninghe/Desktop/Data Processed/' + word_list[word_list.index('country')+1] + \\\n",
    "    '/' + word_list[word_list.index('state')+1]+ '/' + word_list[word_list.index('city')+1] + \\\n",
    "    '/' + word_list[word_list.index('term')+1] + '/' + name \n",
    "    # directory: Data Processed/Country/state/city/term/filename.json\n",
    "    os.makedirs(os.path.dirname(newpath), exist_ok=True)\n",
    "    dst = newpath\n",
    "    copyfile(src, dst) # copy files in to aim directory"
   ]
  },
  {
   "cell_type": "markdown",
   "metadata": {},
   "source": [
    "# Question 2_part2 Read all the json files in the folder called Data.\n",
    "- Read only the json files which contain the key called “restaurants”\n",
    "- Each (or most of the json files) contain a key called “open” which contains the details of the operation (timings) of the restaurants. For each json file, read the timings of the restaurants.\n",
    "- Data of the operation timings of the restaurants is present for each day of the week. I want you to extract each of this data and write it in an excel sheet."
   ]
  },
  {
   "cell_type": "code",
   "execution_count": 4,
   "metadata": {
    "collapsed": true
   },
   "outputs": [],
   "source": [
    "for name in names:            #get restaurant files for easier calculation\n",
    "    file = open(name)  \n",
    "    file_name = name[name.rfind('/')+1:]\n",
    "    lines = file.read()\n",
    "    lines = ''.join(ch for ch in lines if ch not in punctation)\n",
    "    word_list = lines.split()\n",
    "    if(word_list[word_list.index('term')+1] == 'restaurants'):\n",
    "        src = name\n",
    "        path = '/Users/fangninghe/Desktop/restaurants/' + file_name\n",
    "        os.makedirs(os.path.dirname(path), exist_ok=True)\n",
    "        dst = path\n",
    "        copyfile(src, dst)"
   ]
  },
  {
   "cell_type": "code",
   "execution_count": 5,
   "metadata": {
    "collapsed": true
   },
   "outputs": [],
   "source": [
    "r_names = glob.glob('/Users/fangninghe/Desktop/restaurants/*')"
   ]
  },
  {
   "cell_type": "code",
   "execution_count": 6,
   "metadata": {
    "collapsed": false
   },
   "outputs": [
    {
     "data": {
      "text/plain": [
       "[['1 Abercrombie Lane', 'Sydney', 'AU'],\n",
       " ['1 Abercrombie Lane', 'Sydney', 'AU'],\n",
       " ['1 Abercrombie Lane', 'Sydney', 'AU'],\n",
       " ['1 Abercrombie Lane', 'Sydney', 'AU'],\n",
       " ['1 Abercrombie Lane', 'Sydney', 'AU'],\n",
       " ['1 Chicken Rice Seafood', 'Houston', 'US'],\n",
       " ['1 Chicken Rice Seafood', 'Houston', 'US'],\n",
       " ['1 Chicken Rice Seafood', 'Houston', 'US'],\n",
       " ['1 Chicken Rice Seafood', 'Houston', 'US'],\n",
       " ['1 Chicken Rice Seafood', 'Houston', 'US'],\n",
       " ['1 Chicken Rice Seafood', 'Houston', 'US'],\n",
       " ['1 Chinese Kitchen', 'San', 'US'],\n",
       " ['1 Chinese Kitchen', 'San', 'US'],\n",
       " ['1 Chinese Kitchen', 'San', 'US'],\n",
       " ['1 Chinese Kitchen', 'San', 'US'],\n",
       " ['1 Chinese Kitchen', 'San', 'US'],\n",
       " ['1 Chinese Kitchen', 'San', 'US'],\n",
       " ['10 Custom Pizzeria', 'Braddon', 'AU'],\n",
       " ['10 Custom Pizzeria', 'Braddon', 'AU'],\n",
       " ['10 Custom Pizzeria', 'Braddon', 'AU']]"
      ]
     },
     "execution_count": 6,
     "metadata": {},
     "output_type": "execute_result"
    }
   ],
   "source": [
    "table = []                  #get a first 3-column table\n",
    "for name in r_names:\n",
    "    file = open(name)\n",
    "    lines = file.read()\n",
    "    lines = ''.join(ch for ch in lines if ch not in punctation)\n",
    "    word_list = lines.split()\n",
    "    for word in word_list:\n",
    "        if word == 'day':\n",
    "            day_detail = []\n",
    "            if word_list.index('url') > word_list.index('name'):\n",
    "                name = \" \".join(ch for ch in word_list[word_list.index('name')+1:word_list.index('url')])\n",
    "            elif word_list.index('term') > word_list.index('name'): \n",
    "                name = \" \".join(ch for ch in word_list[word_list.index('name')+1:word_list.index('term')])\n",
    "            else:\n",
    "                name = \" \".join(ch for ch in word_list[word_list.index('name')+1:])\n",
    "            day_detail.append(name)\n",
    "            day_detail.append(word_list[word_list.index('city')+1])\n",
    "            day_detail.append(word_list[word_list.index('country')+1])\n",
    "            table.append(day_detail)\n",
    "            \n",
    "table[:20]"
   ]
  },
  {
   "cell_type": "code",
   "execution_count": 9,
   "metadata": {
    "collapsed": true
   },
   "outputs": [],
   "source": [
    "def business_detail(r_names,keyword,table): #function to append another 3 columns to table\n",
    "    a = 0\n",
    "    for name in r_names:\n",
    "        file = open(name)\n",
    "        lines = file.read()\n",
    "        lines = ''.join(ch for ch in lines if ch not in punctation)\n",
    "        word_list = lines.split()\n",
    "        #word_day = deepcopy(word_list)\n",
    "        for word in word_list:\n",
    "            if word == keyword:\n",
    "                table[a].append(word_list[word_list.index(word)+1])\n",
    "                word_list = word_list[word_list.index(word)+1:]\n",
    "                a = a + 1  \n",
    "    return table"
   ]
  },
  {
   "cell_type": "code",
   "execution_count": 10,
   "metadata": {
    "collapsed": false
   },
   "outputs": [
    {
     "data": {
      "text/plain": [
       "[['1 Abercrombie Lane', 'Sydney', 'AU', '0'],\n",
       " ['1 Abercrombie Lane', 'Sydney', 'AU', '1'],\n",
       " ['1 Abercrombie Lane', 'Sydney', 'AU', '2'],\n",
       " ['1 Abercrombie Lane', 'Sydney', 'AU', '3'],\n",
       " ['1 Abercrombie Lane', 'Sydney', 'AU', '4'],\n",
       " ['1 Chicken Rice Seafood', 'Houston', 'US', '0'],\n",
       " ['1 Chicken Rice Seafood', 'Houston', 'US', '1'],\n",
       " ['1 Chicken Rice Seafood', 'Houston', 'US', '2'],\n",
       " ['1 Chicken Rice Seafood', 'Houston', 'US', '3'],\n",
       " ['1 Chicken Rice Seafood', 'Houston', 'US', '4']]"
      ]
     },
     "execution_count": 10,
     "metadata": {},
     "output_type": "execute_result"
    }
   ],
   "source": [
    "table = business_detail(r_names,'day',table)  # get 'day' information\n",
    "table[:10]"
   ]
  },
  {
   "cell_type": "code",
   "execution_count": 11,
   "metadata": {
    "collapsed": false
   },
   "outputs": [
    {
     "data": {
      "text/plain": [
       "[['1 Abercrombie Lane', 'Sydney', 'AU', '0', '0730'],\n",
       " ['1 Abercrombie Lane', 'Sydney', 'AU', '1', '0730'],\n",
       " ['1 Abercrombie Lane', 'Sydney', 'AU', '2', '0730'],\n",
       " ['1 Abercrombie Lane', 'Sydney', 'AU', '3', '0700'],\n",
       " ['1 Abercrombie Lane', 'Sydney', 'AU', '4', '0730'],\n",
       " ['1 Chicken Rice Seafood', 'Houston', 'US', '0', '1030'],\n",
       " ['1 Chicken Rice Seafood', 'Houston', 'US', '1', '1030'],\n",
       " ['1 Chicken Rice Seafood', 'Houston', 'US', '2', '1030'],\n",
       " ['1 Chicken Rice Seafood', 'Houston', 'US', '3', '1030'],\n",
       " ['1 Chicken Rice Seafood', 'Houston', 'US', '4', '1030']]"
      ]
     },
     "execution_count": 11,
     "metadata": {},
     "output_type": "execute_result"
    }
   ],
   "source": [
    "table = business_detail(r_names,'start',table)  #get 'start' information\n",
    "table[:10]"
   ]
  },
  {
   "cell_type": "code",
   "execution_count": 12,
   "metadata": {
    "collapsed": false
   },
   "outputs": [
    {
     "data": {
      "text/plain": [
       "[['1 Abercrombie Lane', 'Sydney', 'AU', '0', '0730', '1530'],\n",
       " ['1 Abercrombie Lane', 'Sydney', 'AU', '1', '0730', '1530'],\n",
       " ['1 Abercrombie Lane', 'Sydney', 'AU', '2', '0730', '1530'],\n",
       " ['1 Abercrombie Lane', 'Sydney', 'AU', '3', '0700', '1530'],\n",
       " ['1 Abercrombie Lane', 'Sydney', 'AU', '4', '0730', '1530'],\n",
       " ['1 Chicken Rice Seafood', 'Houston', 'US', '0', '1030', '2030'],\n",
       " ['1 Chicken Rice Seafood', 'Houston', 'US', '1', '1030', '2030'],\n",
       " ['1 Chicken Rice Seafood', 'Houston', 'US', '2', '1030', '2030'],\n",
       " ['1 Chicken Rice Seafood', 'Houston', 'US', '3', '1030', '2030'],\n",
       " ['1 Chicken Rice Seafood', 'Houston', 'US', '4', '1030', '2030']]"
      ]
     },
     "execution_count": 12,
     "metadata": {},
     "output_type": "execute_result"
    }
   ],
   "source": [
    "table = business_detail(r_names,'end',table)  #get 'end' information\n",
    "table[:10]"
   ]
  },
  {
   "cell_type": "code",
   "execution_count": 13,
   "metadata": {
    "collapsed": false
   },
   "outputs": [
    {
     "data": {
      "text/plain": [
       "[['Name of restaurant',\n",
       "  'City',\n",
       "  'Country Code',\n",
       "  'Day of week',\n",
       "  'Start time',\n",
       "  'End time'],\n",
       " ['1 Abercrombie Lane', 'Sydney', 'AU', '0', '0730', '1530'],\n",
       " ['1 Abercrombie Lane', 'Sydney', 'AU', '1', '0730', '1530'],\n",
       " ['1 Abercrombie Lane', 'Sydney', 'AU', '2', '0730', '1530'],\n",
       " ['1 Abercrombie Lane', 'Sydney', 'AU', '3', '0700', '1530'],\n",
       " ['1 Abercrombie Lane', 'Sydney', 'AU', '4', '0730', '1530']]"
      ]
     },
     "execution_count": 13,
     "metadata": {},
     "output_type": "execute_result"
    }
   ],
   "source": [
    "table.insert(0,['Name of restaurant','City','Country Code','Day of week','Start time','End time'])  # add headers\n",
    "table[:6] "
   ]
  },
  {
   "cell_type": "code",
   "execution_count": 14,
   "metadata": {
    "collapsed": true
   },
   "outputs": [],
   "source": [
    "import csv\n",
    "with open(\"business_detail.csv\", \"w\",newline='') as f:\n",
    "    writer = csv.writer(f)\n",
    "    writer.writerows(table)"
   ]
  }
 ],
 "metadata": {
  "anaconda-cloud": {},
  "kernelspec": {
   "display_name": "Python 3",
   "language": "python",
   "name": "python3"
  },
  "language_info": {
   "codemirror_mode": {
    "name": "ipython",
    "version": 3
   },
   "file_extension": ".py",
   "mimetype": "text/x-python",
   "name": "python",
   "nbconvert_exporter": "python",
   "pygments_lexer": "ipython3",
   "version": "3.5.2"
  }
 },
 "nbformat": 4,
 "nbformat_minor": 1
}
